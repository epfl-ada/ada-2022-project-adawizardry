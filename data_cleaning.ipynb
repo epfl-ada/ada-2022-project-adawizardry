{
 "cells": [
  {
   "cell_type": "code",
   "execution_count": 9,
   "metadata": {},
   "outputs": [],
   "source": [
    "import pandas as pd\n",
    "import numpy as np\n",
    "import re\n",
    "\n",
    "movie_df = pd.read_csv(\n",
    "    './rawdata/MovieSummaries/movie.metadata.tsv', \n",
    "    sep=\"\\t\", \n",
    "    names=[\"wiki_id\", \"freebase_id\", \"name\", \"release_date\", \"revenue\", \"runtime\", \"languages\", \"countries\", \"genres\"]\n",
    ")"
   ]
  },
  {
   "cell_type": "code",
   "execution_count": 10,
   "metadata": {},
   "outputs": [],
   "source": [
    "def parse_langauge (x): \n",
    "    if not x : \n",
    "        return []\n",
    "    x = x.split(',')\n",
    "    result = []\n",
    "    for combo in x: \n",
    "        combo = combo.split(\":\")\n",
    "        if len(combo) > 1: \n",
    "            combo[1] = re.sub(\"[^a-zA-Z0-9\\s]+\", \"\", combo[1])\n",
    "            combo[1] = re.sub('^\\s', \"\", combo[1])\n",
    "            result.append(combo[1])\n",
    "    return result \n",
    "\n",
    "movie_df['languages'] = movie_df['languages'].apply(parse_langauge)"
   ]
  },
  {
   "cell_type": "code",
   "execution_count": 11,
   "metadata": {},
   "outputs": [
    {
     "data": {
      "text/html": [
       "<div>\n",
       "<style scoped>\n",
       "    .dataframe tbody tr th:only-of-type {\n",
       "        vertical-align: middle;\n",
       "    }\n",
       "\n",
       "    .dataframe tbody tr th {\n",
       "        vertical-align: top;\n",
       "    }\n",
       "\n",
       "    .dataframe thead th {\n",
       "        text-align: right;\n",
       "    }\n",
       "</style>\n",
       "<table border=\"1\" class=\"dataframe\">\n",
       "  <thead>\n",
       "    <tr style=\"text-align: right;\">\n",
       "      <th></th>\n",
       "      <th>languages</th>\n",
       "      <th>genres</th>\n",
       "    </tr>\n",
       "  </thead>\n",
       "  <tbody>\n",
       "    <tr>\n",
       "      <th>0</th>\n",
       "      <td>[English Language]</td>\n",
       "      <td>[Thriller, Science Fiction, Horror, Adventure,...</td>\n",
       "    </tr>\n",
       "    <tr>\n",
       "      <th>1</th>\n",
       "      <td>[English Language]</td>\n",
       "      <td>[Mystery, Biographical film, Drama, Crime Drama]</td>\n",
       "    </tr>\n",
       "    <tr>\n",
       "      <th>2</th>\n",
       "      <td>[Norwegian Language]</td>\n",
       "      <td>[Crime Fiction, Drama]</td>\n",
       "    </tr>\n",
       "    <tr>\n",
       "      <th>3</th>\n",
       "      <td>[English Language]</td>\n",
       "      <td>[Thriller, Erotic thriller, Psychological thri...</td>\n",
       "    </tr>\n",
       "    <tr>\n",
       "      <th>4</th>\n",
       "      <td>[German Language]</td>\n",
       "      <td>[Drama]</td>\n",
       "    </tr>\n",
       "    <tr>\n",
       "      <th>5</th>\n",
       "      <td>[Silent film, English Language]</td>\n",
       "      <td>[Short Film, Silent film, Indie, Blackandwhite...</td>\n",
       "    </tr>\n",
       "    <tr>\n",
       "      <th>6</th>\n",
       "      <td>[English Language]</td>\n",
       "      <td>[Family Film, Fantasy, Adventure, World cinema]</td>\n",
       "    </tr>\n",
       "    <tr>\n",
       "      <th>7</th>\n",
       "      <td>[English Language]</td>\n",
       "      <td>[Musical, Comedy, Blackandwhite]</td>\n",
       "    </tr>\n",
       "    <tr>\n",
       "      <th>8</th>\n",
       "      <td>[Spanish Language]</td>\n",
       "      <td>[Musical, Drama, Comedy]</td>\n",
       "    </tr>\n",
       "    <tr>\n",
       "      <th>9</th>\n",
       "      <td>[English Language]</td>\n",
       "      <td>[Horror, Supernatural]</td>\n",
       "    </tr>\n",
       "  </tbody>\n",
       "</table>\n",
       "</div>"
      ],
      "text/plain": [
       "                         languages  \\\n",
       "0               [English Language]   \n",
       "1               [English Language]   \n",
       "2             [Norwegian Language]   \n",
       "3               [English Language]   \n",
       "4                [German Language]   \n",
       "5  [Silent film, English Language]   \n",
       "6               [English Language]   \n",
       "7               [English Language]   \n",
       "8               [Spanish Language]   \n",
       "9               [English Language]   \n",
       "\n",
       "                                              genres  \n",
       "0  [Thriller, Science Fiction, Horror, Adventure,...  \n",
       "1   [Mystery, Biographical film, Drama, Crime Drama]  \n",
       "2                             [Crime Fiction, Drama]  \n",
       "3  [Thriller, Erotic thriller, Psychological thri...  \n",
       "4                                            [Drama]  \n",
       "5  [Short Film, Silent film, Indie, Blackandwhite...  \n",
       "6    [Family Film, Fantasy, Adventure, World cinema]  \n",
       "7                   [Musical, Comedy, Blackandwhite]  \n",
       "8                           [Musical, Drama, Comedy]  \n",
       "9                             [Horror, Supernatural]  "
      ]
     },
     "execution_count": 11,
     "metadata": {},
     "output_type": "execute_result"
    }
   ],
   "source": [
    "movie_df['genres'] = movie_df['genres'].apply(parse_langauge)\n",
    "movie_df[['languages', 'genres']].head(10)"
   ]
  }
 ],
 "metadata": {
  "kernelspec": {
   "display_name": "Python 3.9.13 ('ada')",
   "language": "python",
   "name": "python3"
  },
  "language_info": {
   "codemirror_mode": {
    "name": "ipython",
    "version": 3
   },
   "file_extension": ".py",
   "mimetype": "text/x-python",
   "name": "python",
   "nbconvert_exporter": "python",
   "pygments_lexer": "ipython3",
   "version": "3.9.13"
  },
  "orig_nbformat": 4,
  "vscode": {
   "interpreter": {
    "hash": "3a37de1b13afbac81ca6c8a18302ef7bc95b4cf2184e82b338b3cff13f123ddc"
   }
  }
 },
 "nbformat": 4,
 "nbformat_minor": 2
}
