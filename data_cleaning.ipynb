{
 "cells": [
  {
   "cell_type": "code",
   "execution_count": 3,
   "metadata": {},
   "outputs": [],
   "source": [
    "import pandas as pd\n",
    "import numpy as np\n",
    "import re\n",
    "\n",
    "movie_df = pd.read_csv(\n",
    "    './MovieSummaries/movie.metadata.tsv', \n",
    "    sep=\"\\t\", \n",
    "    names=[\"wiki_id\", \"freebase_id\", \"name\", \"release_date\", \"revenue\", \"runtime\", \"languages\", \"countries\", \"genres\"]\n",
    ")"
   ]
  },
  {
   "cell_type": "code",
   "execution_count": 10,
   "metadata": {},
   "outputs": [
    {
     "data": {
      "text/plain": [
       "0                    {\"/m/02h40lc\": \"English Language\"}\n",
       "1                    {\"/m/02h40lc\": \"English Language\"}\n",
       "2                    {\"/m/05f_3\": \"Norwegian Language\"}\n",
       "3                    {\"/m/02h40lc\": \"English Language\"}\n",
       "4                     {\"/m/04306rv\": \"German Language\"}\n",
       "5     {\"/m/06ppq\": \"Silent film\", \"/m/02h40lc\": \"Eng...\n",
       "6                    {\"/m/02h40lc\": \"English Language\"}\n",
       "7                    {\"/m/02h40lc\": \"English Language\"}\n",
       "8                      {\"/m/06nm1\": \"Spanish Language\"}\n",
       "9                    {\"/m/02h40lc\": \"English Language\"}\n",
       "10                   {\"/m/02h40lc\": \"English Language\"}\n",
       "11                    {\"/m/03_9r\": \"Japanese Language\"}\n",
       "12                   {\"/m/02h40lc\": \"English Language\"}\n",
       "13                   {\"/m/02h40lc\": \"English Language\"}\n",
       "14                   {\"/m/02hwyss\": \"Turkish Language\"}\n",
       "15                   {\"/m/02h40lc\": \"English Language\"}\n",
       "16                                                   {}\n",
       "17                   {\"/m/02h40lc\": \"English Language\"}\n",
       "18                    {\"/m/04306rv\": \"German Language\"}\n",
       "19                   {\"/m/02h40lc\": \"English Language\"}\n",
       "Name: languages, dtype: object"
      ]
     },
     "execution_count": 10,
     "metadata": {},
     "output_type": "execute_result"
    }
   ],
   "source": [
    "def parse_langauge (x): \n",
    "    if not x : \n",
    "        return []\n",
    "    x = x.split(',')\n",
    "    result = []\n",
    "    for combo in x: \n",
    "        combo = combo.split(\":\")\n",
    "        if len(combo) > 1: \n",
    "            combo[1] = re.sub(\"[^a-zA-Z0-9\\s]+\", \"\", combo[1])\n",
    "            combo[1] = re.sub('^\\s', \"\", combo[1])\n",
    "            result.append(combo[1])\n",
    "    return result \n",
    "\n",
    "movie_df['languages'].apply(parse_langauge)\n",
    "movie_df['languages'].head(20)"
   ]
  }
 ],
 "metadata": {
  "kernelspec": {
   "display_name": "Python 3.8.10 64-bit",
   "language": "python",
   "name": "python3"
  },
  "language_info": {
   "codemirror_mode": {
    "name": "ipython",
    "version": 3
   },
   "file_extension": ".py",
   "mimetype": "text/x-python",
   "name": "python",
   "nbconvert_exporter": "python",
   "pygments_lexer": "ipython3",
   "version": "3.8.10"
  },
  "orig_nbformat": 4,
  "vscode": {
   "interpreter": {
    "hash": "916dbcbb3f70747c44a77c7bcd40155683ae19c65e1c03b4aa3499c5328201f1"
   }
  }
 },
 "nbformat": 4,
 "nbformat_minor": 2
}
