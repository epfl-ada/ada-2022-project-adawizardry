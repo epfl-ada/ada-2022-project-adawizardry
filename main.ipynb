{
 "cells": [
  {
   "cell_type": "markdown",
   "metadata": {},
   "source": [
    "# Project Milestone 2 Pipeline\n",
    "\n",
    "Our pipeline has the following 4 major parts: \n",
    "##### 1. Data cleaning and data quality analysis\n",
    "##### 2. Movie releases and genre over time \n",
    "##### 3. Historical events scraping and plot analysis \n",
    "##### 4. Historical events and genre analysis "
   ]
  },
  {
   "cell_type": "code",
   "execution_count": 249,
   "metadata": {},
   "outputs": [],
   "source": [
    "import pandas as pd\n",
    "import numpy as np\n",
    "import matplotlib.pyplot as plt\n",
    "import re\n",
    "from enum import Enum"
   ]
  },
  {
   "cell_type": "code",
   "execution_count": 250,
   "metadata": {},
   "outputs": [],
   "source": [
    "class Data(Enum):\n",
    "    MOVIES = \"movie.metadata.tsv\"\n",
    "    PLOTS = \"plot_summaries.txt\"\n",
    "    NAME_CLUSTERS = \"name.clusters.txt\"\n",
    "\n",
    "def load_data(type : Data, columns, index_col = \"\"):\n",
    "    \"\"\"\n",
    "    Loads data of type using the Data Enum, with columns, and index_col as the index if provided. The data must be in a folder named MovieSummaries.\n",
    "\n",
    "    returns: DataFrame\n",
    "    \"\"\"\n",
    "    return pd.read_csv(\n",
    "        f'./MovieSummaries/{type.value}', \n",
    "        sep=\"\\t\", \n",
    "        names=columns,\n",
    "        index_col=index_col if index_col != \"\" else columns[0]\n",
    "    )\n",
    "\n",
    "orig_movie_df = load_data(\n",
    "    Data.MOVIES, \n",
    "    [\"wiki_id\", \"freebase_id\", \"name\", \"release_date\", \"revenue\", \"runtime\", \"languages\", \"countries\", \"genres\"],\n",
    ")\n",
    "plot_df = load_data(\n",
    "    Data.PLOTS, \n",
    "    [\"wiki_id\", \"plot\"]\n",
    ")\n",
    "name_df = load_data(\n",
    "    Data.NAME_CLUSTERS, \n",
    "    [\"character_name\", \"freebase_id\"],\n",
    "    index_col=\"freebase_id\"\n",
    ")"
   ]
  },
  {
   "cell_type": "markdown",
   "metadata": {},
   "source": [
    "## Data Cleaning\n",
    "Here we match the movies metadata with the plot summaries, and clean out unnecessary punctuations, parse strings into separate and processable values, use appropriate datatypes etc. "
   ]
  },
  {
   "cell_type": "code",
   "execution_count": 251,
   "metadata": {},
   "outputs": [
    {
     "data": {
      "text/html": [
       "<div>\n",
       "<style scoped>\n",
       "    .dataframe tbody tr th:only-of-type {\n",
       "        vertical-align: middle;\n",
       "    }\n",
       "\n",
       "    .dataframe tbody tr th {\n",
       "        vertical-align: top;\n",
       "    }\n",
       "\n",
       "    .dataframe thead th {\n",
       "        text-align: right;\n",
       "    }\n",
       "</style>\n",
       "<table border=\"1\" class=\"dataframe\">\n",
       "  <thead>\n",
       "    <tr style=\"text-align: right;\">\n",
       "      <th></th>\n",
       "      <th>freebase_id</th>\n",
       "      <th>name</th>\n",
       "      <th>release_date</th>\n",
       "      <th>revenue</th>\n",
       "      <th>runtime</th>\n",
       "      <th>languages</th>\n",
       "      <th>countries</th>\n",
       "      <th>genres</th>\n",
       "      <th>plot</th>\n",
       "    </tr>\n",
       "    <tr>\n",
       "      <th>wiki_id</th>\n",
       "      <th></th>\n",
       "      <th></th>\n",
       "      <th></th>\n",
       "      <th></th>\n",
       "      <th></th>\n",
       "      <th></th>\n",
       "      <th></th>\n",
       "      <th></th>\n",
       "      <th></th>\n",
       "    </tr>\n",
       "  </thead>\n",
       "  <tbody>\n",
       "    <tr>\n",
       "      <th>975900</th>\n",
       "      <td>/m/03vyhn</td>\n",
       "      <td>Ghosts of Mars</td>\n",
       "      <td>2001</td>\n",
       "      <td>14010832</td>\n",
       "      <td>98</td>\n",
       "      <td>[English]</td>\n",
       "      <td>[United States of America]</td>\n",
       "      <td>[Action, Adventure, Horror, Science Fiction, S...</td>\n",
       "      <td>Set in the second half of the 22nd century, th...</td>\n",
       "    </tr>\n",
       "    <tr>\n",
       "      <th>3196793</th>\n",
       "      <td>/m/08yl5d</td>\n",
       "      <td>Getting Away with Murder: The JonBenét Ramsey ...</td>\n",
       "      <td>2000</td>\n",
       "      <td>0</td>\n",
       "      <td>95</td>\n",
       "      <td>[English]</td>\n",
       "      <td>[United States of America]</td>\n",
       "      <td>[Biographical film, Crime Drama, Drama, Mystery]</td>\n",
       "      <td>NaN</td>\n",
       "    </tr>\n",
       "    <tr>\n",
       "      <th>28463795</th>\n",
       "      <td>/m/0crgdbh</td>\n",
       "      <td>Brun bitter</td>\n",
       "      <td>1988</td>\n",
       "      <td>0</td>\n",
       "      <td>83</td>\n",
       "      <td>[Norwegian]</td>\n",
       "      <td>[Norway]</td>\n",
       "      <td>[Crime Fiction, Drama]</td>\n",
       "      <td>NaN</td>\n",
       "    </tr>\n",
       "    <tr>\n",
       "      <th>9363483</th>\n",
       "      <td>/m/0285_cd</td>\n",
       "      <td>White Of The Eye</td>\n",
       "      <td>1987</td>\n",
       "      <td>0</td>\n",
       "      <td>110</td>\n",
       "      <td>[English]</td>\n",
       "      <td>[United Kingdom]</td>\n",
       "      <td>[Erotic thriller, Psychological thriller, Thri...</td>\n",
       "      <td>A series of murders of rich young women throug...</td>\n",
       "    </tr>\n",
       "    <tr>\n",
       "      <th>261236</th>\n",
       "      <td>/m/01mrr1</td>\n",
       "      <td>A Woman in Flames</td>\n",
       "      <td>1983</td>\n",
       "      <td>0</td>\n",
       "      <td>106</td>\n",
       "      <td>[German]</td>\n",
       "      <td>[Germany]</td>\n",
       "      <td>[Drama]</td>\n",
       "      <td>Eva, an upper class housewife, becomes frustra...</td>\n",
       "    </tr>\n",
       "    <tr>\n",
       "      <th>13696889</th>\n",
       "      <td>/m/03cfc81</td>\n",
       "      <td>The Gangsters</td>\n",
       "      <td>1913</td>\n",
       "      <td>0</td>\n",
       "      <td>35</td>\n",
       "      <td>[English, Silent film]</td>\n",
       "      <td>[United States of America]</td>\n",
       "      <td>[Blackandwhite, Comedy, Indie, Short Film, Sil...</td>\n",
       "      <td>NaN</td>\n",
       "    </tr>\n",
       "    <tr>\n",
       "      <th>18998739</th>\n",
       "      <td>/m/04jcqvw</td>\n",
       "      <td>The Sorcerer's Apprentice</td>\n",
       "      <td>2002</td>\n",
       "      <td>0</td>\n",
       "      <td>86</td>\n",
       "      <td>[English]</td>\n",
       "      <td>[South Africa]</td>\n",
       "      <td>[Adventure, Family Film, Fantasy, World cinema]</td>\n",
       "      <td>Every hundred years, the evil Morgana  returns...</td>\n",
       "    </tr>\n",
       "    <tr>\n",
       "      <th>10408933</th>\n",
       "      <td>/m/02qc0j7</td>\n",
       "      <td>Alexander's Ragtime Band</td>\n",
       "      <td>1938</td>\n",
       "      <td>3600000</td>\n",
       "      <td>106</td>\n",
       "      <td>[English]</td>\n",
       "      <td>[United States of America]</td>\n",
       "      <td>[Blackandwhite, Comedy, Musical]</td>\n",
       "      <td>NaN</td>\n",
       "    </tr>\n",
       "    <tr>\n",
       "      <th>9997961</th>\n",
       "      <td>/m/06_y2j7</td>\n",
       "      <td>Contigo y aquí</td>\n",
       "      <td>1974</td>\n",
       "      <td>0</td>\n",
       "      <td>0</td>\n",
       "      <td>[Spanish]</td>\n",
       "      <td>[Argentina]</td>\n",
       "      <td>[Comedy, Drama, Musical]</td>\n",
       "      <td>NaN</td>\n",
       "    </tr>\n",
       "    <tr>\n",
       "      <th>2345652</th>\n",
       "      <td>/m/075f66</td>\n",
       "      <td>City of the Dead</td>\n",
       "      <td>1960</td>\n",
       "      <td>0</td>\n",
       "      <td>76</td>\n",
       "      <td>[English]</td>\n",
       "      <td>[United Kingdom]</td>\n",
       "      <td>[Horror, Supernatural]</td>\n",
       "      <td>NaN</td>\n",
       "    </tr>\n",
       "  </tbody>\n",
       "</table>\n",
       "</div>"
      ],
      "text/plain": [
       "         freebase_id                                               name  \\\n",
       "wiki_id                                                                   \n",
       "975900     /m/03vyhn                                     Ghosts of Mars   \n",
       "3196793    /m/08yl5d  Getting Away with Murder: The JonBenét Ramsey ...   \n",
       "28463795  /m/0crgdbh                                        Brun bitter   \n",
       "9363483   /m/0285_cd                                   White Of The Eye   \n",
       "261236     /m/01mrr1                                  A Woman in Flames   \n",
       "13696889  /m/03cfc81                                      The Gangsters   \n",
       "18998739  /m/04jcqvw                          The Sorcerer's Apprentice   \n",
       "10408933  /m/02qc0j7                           Alexander's Ragtime Band   \n",
       "9997961   /m/06_y2j7                                     Contigo y aquí   \n",
       "2345652    /m/075f66                                   City of the Dead   \n",
       "\n",
       "         release_date   revenue  runtime               languages  \\\n",
       "wiki_id                                                            \n",
       "975900           2001  14010832       98               [English]   \n",
       "3196793          2000         0       95               [English]   \n",
       "28463795         1988         0       83             [Norwegian]   \n",
       "9363483          1987         0      110               [English]   \n",
       "261236           1983         0      106                [German]   \n",
       "13696889         1913         0       35  [English, Silent film]   \n",
       "18998739         2002         0       86               [English]   \n",
       "10408933         1938   3600000      106               [English]   \n",
       "9997961          1974         0        0               [Spanish]   \n",
       "2345652          1960         0       76               [English]   \n",
       "\n",
       "                           countries  \\\n",
       "wiki_id                                \n",
       "975900    [United States of America]   \n",
       "3196793   [United States of America]   \n",
       "28463795                    [Norway]   \n",
       "9363483             [United Kingdom]   \n",
       "261236                     [Germany]   \n",
       "13696889  [United States of America]   \n",
       "18998739              [South Africa]   \n",
       "10408933  [United States of America]   \n",
       "9997961                  [Argentina]   \n",
       "2345652             [United Kingdom]   \n",
       "\n",
       "                                                     genres  \\\n",
       "wiki_id                                                       \n",
       "975900    [Action, Adventure, Horror, Science Fiction, S...   \n",
       "3196793    [Biographical film, Crime Drama, Drama, Mystery]   \n",
       "28463795                             [Crime Fiction, Drama]   \n",
       "9363483   [Erotic thriller, Psychological thriller, Thri...   \n",
       "261236                                              [Drama]   \n",
       "13696889  [Blackandwhite, Comedy, Indie, Short Film, Sil...   \n",
       "18998739    [Adventure, Family Film, Fantasy, World cinema]   \n",
       "10408933                   [Blackandwhite, Comedy, Musical]   \n",
       "9997961                            [Comedy, Drama, Musical]   \n",
       "2345652                              [Horror, Supernatural]   \n",
       "\n",
       "                                                       plot  \n",
       "wiki_id                                                      \n",
       "975900    Set in the second half of the 22nd century, th...  \n",
       "3196793                                                 NaN  \n",
       "28463795                                                NaN  \n",
       "9363483   A series of murders of rich young women throug...  \n",
       "261236    Eva, an upper class housewife, becomes frustra...  \n",
       "13696889                                                NaN  \n",
       "18998739  Every hundred years, the evil Morgana  returns...  \n",
       "10408933                                                NaN  \n",
       "9997961                                                 NaN  \n",
       "2345652                                                 NaN  "
      ]
     },
     "metadata": {},
     "output_type": "display_data"
    }
   ],
   "source": [
    "def parse_multi_values(x): \n",
    "    \"\"\"\n",
    "    Parses the multi value structure of the dataset format into a sorted array of items\n",
    "    Returns null values for empty lists as NaN (so all missing values we use are NaN)\n",
    "    \n",
    "    returns: array of strings extracted from x\n",
    "    \"\"\"\n",
    "    if not x: \n",
    "        return []\n",
    "    x = x.split(',')\n",
    "    result = []\n",
    "    for combo in x: \n",
    "        combo = combo.split(\":\")\n",
    "        if len(combo) > 1: \n",
    "            combo[1] = re.sub(\"[^a-zA-Z0-9\\s]+\", \"\", combo[1])\n",
    "            combo[1] = re.sub(\"^\\s\", \"\", combo[1])\n",
    "            combo[1] = combo[1].strip()\n",
    "            result.append(combo[1])\n",
    "    if not result:\n",
    "        return []\n",
    "    return sorted(result)\n",
    "\n",
    "def parse_language(languages):\n",
    "    \"\"\"\n",
    "    Parses the language column specifically by removing \"Langauge\" from each entry\n",
    "\n",
    "    returns: list of strings of the languages\n",
    "    \"\"\"\n",
    "    if not languages or type(languages) != list:\n",
    "        return []\n",
    "    return list(map(lambda l : l.replace(\"Language\", \"\").strip(), languages))\n",
    "\n",
    "def parse_date(x):\n",
    "    \"\"\"\n",
    "    Parses the date format into an int representing only the year. Values with missing entries are given NaN.\n",
    "\n",
    "    returns: string representing the year \n",
    "    \"\"\"\n",
    "    if not x or x == np.nan:\n",
    "        return np.NaN\n",
    "    return str(x).split(\"-\")[0]\n",
    "\n",
    "def data_clean_movies(df):\n",
    "    # Add plot summaries to the movie dataframe\n",
    "    df = df.join(plot_df)\n",
    "\n",
    "    # Parse multi value attributes into arrays\n",
    "    for attribute in [\"languages\", \"countries\", \"genres\"]:\n",
    "        df[attribute] = df[attribute].apply(parse_multi_values)\n",
    "\n",
    "    # Remove \"Language\" from language column\n",
    "    df[\"languages\"] = df[\"languages\"].apply(parse_language)\n",
    "\n",
    "    # Parse release-date to all use the year as an int (don't need increased granularity right now)\n",
    "    df[\"release_date\"] = df[\"release_date\"].apply(parse_date)\n",
    "\n",
    "    # Replace missing numeric values with zero and convert to int rather than float\n",
    "    for col in [\"runtime\", \"revenue\"]:\n",
    "        df[col] = df[col].fillna(0)\n",
    "        df[col] = df[col].astype(int)\n",
    "    \n",
    "    return df\n",
    "\n",
    "# Create df that is cleaned\n",
    "movie_df = data_clean_movies(orig_movie_df)\n",
    "\n",
    "# Display the head to get a sense for the data\n",
    "display(movie_df.head(10))"
   ]
  },
  {
   "cell_type": "markdown",
   "metadata": {},
   "source": [
    "### Analyzing missing values\n",
    "Here we have a rough idea of the quality of the data, where we realized the genre data is relatively complete among the dataset. "
   ]
  },
  {
   "cell_type": "code",
   "execution_count": 252,
   "metadata": {},
   "outputs": [
    {
     "data": {
      "image/png": "[encoded data removed]",
      "text/plain": [
       "<Figure size 432x288 with 1 Axes>"
      ]
     },
     "metadata": {
      "needs_background": "light"
     },
     "output_type": "display_data"
    },
    {
     "name": "stdout",
     "output_type": "stream",
     "text": [
      "Rows without any missing data is 42204\n"
     ]
    }
   ],
   "source": [
    "def analyze_missing_values(df : pd.DataFrame): \n",
    "    \"\"\"\n",
    "    Checks to what extent we have missing data. For each column, count the number of missing data and plot a bar graph.\n",
    "    \"\"\"\n",
    "\n",
    "    # Dictionary from col to missing values count \n",
    "    missing = {}\n",
    "    for col in df.columns:\n",
    "        # Missing are na or empty falsy values such as empty lists\n",
    "        num_missing = df[col].isna().sum() + (df[col].astype(bool) == False).sum()\n",
    "        if num_missing > 0:\n",
    "            missing[col] = num_missing\n",
    "    missing = sorted(missing.items(), key=lambda x: x[1], reverse=True)\n",
    "    plt.bar(\n",
    "        list(map(lambda x : x[0], missing)), \n",
    "        list(map(lambda x : x[1], missing)),\n",
    "    )\n",
    "    plt.title(\"Features with missing data (total movies = \" + str(df.shape[0]) + \")\")\n",
    "    plt.ylabel(\"Movies missing this feature\")\n",
    "    plt.show()\n",
    "\n",
    "    # Count how many rows are without any missing values\n",
    "    non_missing = (df.notnull().all(axis=\"columns\") == True).sum()\n",
    "    print(\"Rows without any missing data is\", non_missing)\n",
    "\n",
    "analyze_missing_values(movie_df)\n",
    "\n",
    "# Since we are interested in how movies change over time, we are removing all the values without release_date \n",
    "# and we also remove an outlier from 1010 and year 2015 since it's not a full year (it ends in March)\n",
    "movie_df['release_date']\n",
    "movie_df = movie_df[movie_df['release_date'] != 'nan']\n",
    "movie_df = movie_df[movie_df['release_date'] != '1010']\n"
   ]
  },
  {
   "cell_type": "markdown",
   "metadata": {},
   "source": [
    "## Data Analysis Part 1: movie releases and genre over time \n",
    "### How many movies are released per year? \n",
    "It's obvious to see from the graph beneath the the number of movies has increased significantly since 2005, with over 1500 movies released per year"
   ]
  },
  {
   "cell_type": "code",
   "execution_count": 253,
   "metadata": {},
   "outputs": [
    {
     "data": {
      "text/plain": [
       "Text(0.5, 1.0, 'The number of movies released by year')"
      ]
     },
     "execution_count": 253,
     "metadata": {},
     "output_type": "execute_result"
    },
    {
     "data": {
      "image/png": "[encoded data removed]",
      "text/plain": [
       "<Figure size 432x288 with 1 Axes>"
      ]
     },
     "metadata": {
      "needs_background": "light"
     },
     "output_type": "display_data"
    }
   ],
   "source": [
    "number_by_year = movie_df.groupby('release_date')['name'].count()\n",
    "years = list(range(1888, 2017, 1))\n",
    "fig, ax = plt.subplots()\n",
    "ax.plot(years, number_by_year.values )\n",
    "plt.xticks(np.arange(1880, 2015, 10), rotation = 45) \n",
    "plt.title(\"The number of movies released by year\")"
   ]
  },
  {
   "cell_type": "markdown",
   "metadata": {},
   "source": [
    "### How does the frequency of genres change over time? \n",
    "* First, we cleaned up the genre cateogries into broader, more generalizable categories. \n",
    "  * a few examples of the cleaning efforts \"biographical film\" is shortened to \"biographical\", \"actionadventure\" is split into \"action\" and \"adventure\", and \"romance\" is combined with \"romantic\" \n",
    "* Then, we observe the number of films of certain genre released over time"
   ]
  },
  {
   "cell_type": "code",
   "execution_count": 254,
   "metadata": {},
   "outputs": [
    {
     "data": {
      "text/html": [
       "<div>\n",
       "<style scoped>\n",
       "    .dataframe tbody tr th:only-of-type {\n",
       "        vertical-align: middle;\n",
       "    }\n",
       "\n",
       "    .dataframe tbody tr th {\n",
       "        vertical-align: top;\n",
       "    }\n",
       "\n",
       "    .dataframe thead th {\n",
       "        text-align: right;\n",
       "    }\n",
       "</style>\n",
       "<table border=\"1\" class=\"dataframe\">\n",
       "  <thead>\n",
       "    <tr style=\"text-align: right;\">\n",
       "      <th></th>\n",
       "      <th>release_date</th>\n",
       "      <th>genre_divided</th>\n",
       "    </tr>\n",
       "    <tr>\n",
       "      <th>wiki_id</th>\n",
       "      <th></th>\n",
       "      <th></th>\n",
       "    </tr>\n",
       "  </thead>\n",
       "  <tbody>\n",
       "    <tr>\n",
       "      <th>975900</th>\n",
       "      <td>2001</td>\n",
       "      <td>[fiction, space, western, science, adventure, ...</td>\n",
       "    </tr>\n",
       "    <tr>\n",
       "      <th>3196793</th>\n",
       "      <td>2000</td>\n",
       "      <td>[biographical, drama, crime, mystery]</td>\n",
       "    </tr>\n",
       "    <tr>\n",
       "      <th>28463795</th>\n",
       "      <td>1988</td>\n",
       "      <td>[drama, fiction, crime]</td>\n",
       "    </tr>\n",
       "    <tr>\n",
       "      <th>9363483</th>\n",
       "      <td>1987</td>\n",
       "      <td>[psychological, thriller, erotic]</td>\n",
       "    </tr>\n",
       "    <tr>\n",
       "      <th>261236</th>\n",
       "      <td>1983</td>\n",
       "      <td>[drama]</td>\n",
       "    </tr>\n",
       "    <tr>\n",
       "      <th>13696889</th>\n",
       "      <td>1913</td>\n",
       "      <td>[silent, blackandwhite, short, comedy, indie]</td>\n",
       "    </tr>\n",
       "    <tr>\n",
       "      <th>18998739</th>\n",
       "      <td>2002</td>\n",
       "      <td>[family, adventure, fantasy, world]</td>\n",
       "    </tr>\n",
       "    <tr>\n",
       "      <th>10408933</th>\n",
       "      <td>1938</td>\n",
       "      <td>[blackandwhite, comedy, musical]</td>\n",
       "    </tr>\n",
       "    <tr>\n",
       "      <th>9997961</th>\n",
       "      <td>1974</td>\n",
       "      <td>[comedy, drama, musical]</td>\n",
       "    </tr>\n",
       "    <tr>\n",
       "      <th>2345652</th>\n",
       "      <td>1960</td>\n",
       "      <td>[supernatural, horror]</td>\n",
       "    </tr>\n",
       "  </tbody>\n",
       "</table>\n",
       "</div>"
      ],
      "text/plain": [
       "         release_date                                      genre_divided\n",
       "wiki_id                                                                 \n",
       "975900           2001  [fiction, space, western, science, adventure, ...\n",
       "3196793          2000              [biographical, drama, crime, mystery]\n",
       "28463795         1988                            [drama, fiction, crime]\n",
       "9363483          1987                  [psychological, thriller, erotic]\n",
       "261236           1983                                            [drama]\n",
       "13696889         1913      [silent, blackandwhite, short, comedy, indie]\n",
       "18998739         2002                [family, adventure, fantasy, world]\n",
       "10408933         1938                   [blackandwhite, comedy, musical]\n",
       "9997961          1974                           [comedy, drama, musical]\n",
       "2345652          1960                             [supernatural, horror]"
      ]
     },
     "metadata": {},
     "output_type": "display_data"
    },
    {
     "data": {
      "image/png": "[encoded data removed]",
      "text/plain": [
       "<Figure size 432x288 with 1 Axes>"
      ]
     },
     "metadata": {
      "needs_background": "light"
     },
     "output_type": "display_data"
    }
   ],
   "source": [
    "def combine_lists(elements):\n",
    "    \"\"\"\n",
    "    Separate a word like \"pyschological thriller\" to \"psychological\" and \"thriller\"\n",
    "\n",
    "    returns: list\n",
    "    \"\"\"\n",
    "    result = []\n",
    "    for x in elements: \n",
    "        result += x\n",
    "    return result\n",
    "\n",
    "def to_1D(series):\n",
    "    \"\"\"\n",
    "    Maps a list of items in a series.\n",
    "\n",
    "    returns: pd.Series \n",
    "    \"\"\"\n",
    "    return pd.Series([x for _list in series for x in _list])\n",
    "    \n",
    "movie_df['genre_divided'] = movie_df['genres'].apply(lambda x: [word.lower().split(\" \") for word in x]).apply(combine_lists)\n",
    "\n",
    "def remove_certain_genre(l):\n",
    "    \"\"\"\n",
    "    Removes certain meaningless keywords from genre like \"film\" and \"movies\"\n",
    "    Removes repeated words by changing to set; \n",
    "    if a film is [\"romatic comedy\", \"dark comedy\"], it would become [\"romatic\", \"dark\", \"comedy\"]\n",
    "\n",
    "    returns: filtered list\n",
    "    \"\"\"\n",
    "    no_meaning_words = {\"film\", \"movies\", \"of\", \"movie\", \"cinema\"}\n",
    "    l = set(l)\n",
    "    for word in no_meaning_words:\n",
    "        if word in l: \n",
    "            l.remove(word)\n",
    "    return list(l)\n",
    "\n",
    "def swap_certain_genre (l):\n",
    "    \"\"\"\n",
    "    Swaps words in listA to the list in listB. E.g., \"romantic\" is equal to \"romance\", and \"actionadventure\" is equal to \"action\" + \"adventure\"\n",
    "\n",
    "    returns: list of swapped words\n",
    "    \"\"\"\n",
    "    listA = ['romantic', 'actionadventure', 'comedydrama', 'childrensfamily']\n",
    "    listB = [['romance'], ['action', 'adventure'], ['comedy', 'drama'], ['childrens', 'family']]\n",
    "    for word in l:\n",
    "        if word in listA: \n",
    "            ind = listA.index(word)\n",
    "            l.remove(word)\n",
    "            l += listB[ind]\n",
    "    return list(set(l))\n",
    "\n",
    "movie_df['genre_divided'] = movie_df['genre_divided'].apply(remove_certain_genre)\n",
    "movie_df['genre_divided'] = movie_df['genre_divided'].apply(swap_certain_genre)\n",
    "display(movie_df[['release_date', 'genre_divided']].head(10)) \n",
    "\n",
    "# Focus on the top 10 genres, as the ones beneath have less data \n",
    "# This filters out genres that might be interesting to analyze at a later stage like science fiction, animation and documentary. \n",
    "top_ten_list = to_1D(movie_df['genre_divided']).value_counts()[0:10]\n",
    "\n",
    "# Let's do a bar plot to get a sense of the distribution of genres\n",
    "plt.bar(\n",
    "    top_ten_list.index, \n",
    "    top_ten_list.values,\n",
    ")\n",
    "plt.title(\"Top ten most popular genres\")\n",
    "plt.ylabel(\"Number of movies\")\n",
    "plt.xticks(rotation = 45)\n",
    "plt.show()"
   ]
  },
  {
   "cell_type": "markdown",
   "metadata": {},
   "source": [
    "#### How many films of the top ten genres are made per year? "
   ]
  },
  {
   "cell_type": "code",
   "execution_count": 255,
   "metadata": {},
   "outputs": [
    {
     "data": {
      "image/png": "[encoded data removed]",
      "text/plain": [
       "<Figure size 432x288 with 1 Axes>"
      ]
     },
     "metadata": {
      "needs_background": "light"
     },
     "output_type": "display_data"
    },
    {
     "data": {
      "text/plain": [
       "<AxesSubplot:title={'center':'Number of movie by genre over time'}>"
      ]
     },
     "execution_count": 255,
     "metadata": {},
     "output_type": "execute_result"
    }
   ],
   "source": [
    "def plot_stack_plot(df, labels, xaxis, title): \n",
    "    \"\"\"\n",
    "    Plots a stackplot.\n",
    "    \"\"\"\n",
    "    vstack = []\n",
    "    for genre in labels: \n",
    "        vstack.append(list(df[genre]))\n",
    "\n",
    "    vstack = np.vstack(vstack)\n",
    "    fig, ax = plt.subplots()\n",
    "    ax.stackplot(xaxis, vstack, labels=labels)\n",
    "    ax.legend(loc='center left', bbox_to_anchor=(1, 0.5))\n",
    "    plt.title(title)\n",
    "    plt.show()\n",
    "    return ax\n",
    "\n",
    "# Prepare new dataframe for plotting \n",
    "stackplot_df = movie_df[['release_date', 'genre_divided']].copy()\n",
    "top_ten_genres = top_ten_list.index\n",
    "for genre in top_ten_genres: \n",
    "    stackplot_df[genre] = 0\n",
    "\n",
    "for genre in top_ten_genres:\n",
    "    stackplot_df[genre] = stackplot_df['genre_divided'].apply(lambda x: 1 if genre in x else 0)\n",
    "\n",
    "grouped_by = stackplot_df.groupby(by='release_date').sum().reset_index()\n",
    "years = list(range(1888, 2017, 1))\n",
    "plot_stack_plot(\n",
    "    grouped_by, \n",
    "    top_ten_genres, \n",
    "    years, \n",
    "    'Number of movie by genre over time'\n",
    ")"
   ]
  },
  {
   "cell_type": "markdown",
   "metadata": {},
   "source": [
    "#### Normalized genres \n",
    "We realize that the above result might be affected by the number of labels it has. For example, a movie as [\"comedy\", \"romance\", and \"blackandwhite\" ] would contribute more to the graph by having each of those genres added. Therefore, we normalized the result by weighing each genre so they contribute equally. For instance, comedy, romance, and blankandwhite would each contribute 0.33 to the overall count."
   ]
  },
  {
   "cell_type": "code",
   "execution_count": 256,
   "metadata": {},
   "outputs": [
    {
     "data": {
      "image/png": "[encoded data removed]",
      "text/plain": [
       "<Figure size 432x288 with 1 Axes>"
      ]
     },
     "metadata": {
      "needs_background": "light"
     },
     "output_type": "display_data"
    },
    {
     "data": {
      "text/plain": [
       "<AxesSubplot:title={'center':'the number of movie by genre over time (normalized)'}>"
      ]
     },
     "execution_count": 256,
     "metadata": {},
     "output_type": "execute_result"
    }
   ],
   "source": [
    "normalized_stack_df = stackplot_df.copy()\n",
    "normalized_stack_df[\"sum\"] = normalized_stack_df.iloc[:, 2:12].sum(axis=1)\n",
    "for genre in top_ten_genres:\n",
    "    normalized_stack_df[genre] = normalized_stack_df[genre] / normalized_stack_df['sum']\n",
    "\n",
    "normalized_group_by = normalized_stack_df.groupby(by='release_date').sum().reset_index()\n",
    "plot_stack_plot(normalized_group_by, top_ten_genres, years, \"the number of movie by genre over time (normalized)\")"
   ]
  },
  {
   "cell_type": "markdown",
   "metadata": {},
   "source": [
    "#### Genre change in terms of percentage \n",
    "Let's look at how the popularity of genres have changed over time. "
   ]
  },
  {
   "cell_type": "code",
   "execution_count": 257,
   "metadata": {},
   "outputs": [
    {
     "data": {
      "text/html": [
       "<div>\n",
       "<style scoped>\n",
       "    .dataframe tbody tr th:only-of-type {\n",
       "        vertical-align: middle;\n",
       "    }\n",
       "\n",
       "    .dataframe tbody tr th {\n",
       "        vertical-align: top;\n",
       "    }\n",
       "\n",
       "    .dataframe thead th {\n",
       "        text-align: right;\n",
       "    }\n",
       "</style>\n",
       "<table border=\"1\" class=\"dataframe\">\n",
       "  <thead>\n",
       "    <tr style=\"text-align: right;\">\n",
       "      <th></th>\n",
       "      <th>release_date</th>\n",
       "      <th>drama</th>\n",
       "      <th>comedy</th>\n",
       "      <th>romance</th>\n",
       "      <th>fiction</th>\n",
       "      <th>action</th>\n",
       "      <th>thriller</th>\n",
       "      <th>blackandwhite</th>\n",
       "      <th>adventure</th>\n",
       "      <th>crime</th>\n",
       "      <th>short</th>\n",
       "      <th>sum</th>\n",
       "    </tr>\n",
       "  </thead>\n",
       "  <tbody>\n",
       "    <tr>\n",
       "      <th>124</th>\n",
       "      <td>2012</td>\n",
       "      <td>0.277675</td>\n",
       "      <td>0.200371</td>\n",
       "      <td>0.114409</td>\n",
       "      <td>0.072975</td>\n",
       "      <td>0.116883</td>\n",
       "      <td>0.110699</td>\n",
       "      <td>0.001237</td>\n",
       "      <td>0.042672</td>\n",
       "      <td>0.039579</td>\n",
       "      <td>0.023500</td>\n",
       "      <td>1617</td>\n",
       "    </tr>\n",
       "    <tr>\n",
       "      <th>125</th>\n",
       "      <td>2013</td>\n",
       "      <td>0.170455</td>\n",
       "      <td>0.132576</td>\n",
       "      <td>0.053030</td>\n",
       "      <td>0.151515</td>\n",
       "      <td>0.166667</td>\n",
       "      <td>0.155303</td>\n",
       "      <td>0.000000</td>\n",
       "      <td>0.102273</td>\n",
       "      <td>0.064394</td>\n",
       "      <td>0.003788</td>\n",
       "      <td>264</td>\n",
       "    </tr>\n",
       "    <tr>\n",
       "      <th>126</th>\n",
       "      <td>2014</td>\n",
       "      <td>0.235294</td>\n",
       "      <td>0.117647</td>\n",
       "      <td>0.176471</td>\n",
       "      <td>0.058824</td>\n",
       "      <td>0.058824</td>\n",
       "      <td>0.058824</td>\n",
       "      <td>0.000000</td>\n",
       "      <td>0.294118</td>\n",
       "      <td>0.000000</td>\n",
       "      <td>0.000000</td>\n",
       "      <td>17</td>\n",
       "    </tr>\n",
       "    <tr>\n",
       "      <th>127</th>\n",
       "      <td>2015</td>\n",
       "      <td>0.000000</td>\n",
       "      <td>0.125000</td>\n",
       "      <td>0.000000</td>\n",
       "      <td>0.375000</td>\n",
       "      <td>0.250000</td>\n",
       "      <td>0.000000</td>\n",
       "      <td>0.000000</td>\n",
       "      <td>0.125000</td>\n",
       "      <td>0.125000</td>\n",
       "      <td>0.000000</td>\n",
       "      <td>8</td>\n",
       "    </tr>\n",
       "    <tr>\n",
       "      <th>128</th>\n",
       "      <td>2016</td>\n",
       "      <td>0.000000</td>\n",
       "      <td>0.000000</td>\n",
       "      <td>0.200000</td>\n",
       "      <td>0.200000</td>\n",
       "      <td>0.200000</td>\n",
       "      <td>0.400000</td>\n",
       "      <td>0.000000</td>\n",
       "      <td>0.000000</td>\n",
       "      <td>0.000000</td>\n",
       "      <td>0.000000</td>\n",
       "      <td>5</td>\n",
       "    </tr>\n",
       "  </tbody>\n",
       "</table>\n",
       "</div>"
      ],
      "text/plain": [
       "    release_date     drama    comedy   romance   fiction    action  thriller  \\\n",
       "124         2012  0.277675  0.200371  0.114409  0.072975  0.116883  0.110699   \n",
       "125         2013  0.170455  0.132576  0.053030  0.151515  0.166667  0.155303   \n",
       "126         2014  0.235294  0.117647  0.176471  0.058824  0.058824  0.058824   \n",
       "127         2015  0.000000  0.125000  0.000000  0.375000  0.250000  0.000000   \n",
       "128         2016  0.000000  0.000000  0.200000  0.200000  0.200000  0.400000   \n",
       "\n",
       "     blackandwhite  adventure     crime     short   sum  \n",
       "124       0.001237   0.042672  0.039579  0.023500  1617  \n",
       "125       0.000000   0.102273  0.064394  0.003788   264  \n",
       "126       0.000000   0.294118  0.000000  0.000000    17  \n",
       "127       0.000000   0.125000  0.125000  0.000000     8  \n",
       "128       0.000000   0.000000  0.000000  0.000000     5  "
      ]
     },
     "metadata": {},
     "output_type": "display_data"
    },
    {
     "data": {
      "image/png": "[encoded data removed]",
      "text/plain": [
       "<Figure size 432x288 with 1 Axes>"
      ]
     },
     "metadata": {
      "needs_background": "light"
     },
     "output_type": "display_data"
    },
    {
     "data": {
      "text/plain": [
       "<AxesSubplot:title={'center':'the percentage of movie by genre over time'}>"
      ]
     },
     "execution_count": 257,
     "metadata": {},
     "output_type": "execute_result"
    }
   ],
   "source": [
    "percentage_df = grouped_by.copy()\n",
    "percentage_df['sum'] = percentage_df.iloc[:, 1:11].sum(axis=1)\n",
    "for genre in top_ten_genres:\n",
    "    percentage_df[genre] = percentage_df[genre]/percentage_df['sum']\n",
    "\n",
    "display(percentage_df.tail(5))\n",
    "plot_stack_plot(percentage_df, top_ten_genres, years, \"the percentage of movie by genre over time\")"
   ]
  },
  {
   "cell_type": "markdown",
   "metadata": {},
   "source": [
    "### Data Analysis Part 1 conclusion\n",
    "* We can see that there is a sharp increase in the number of movies made since the 2000s\n",
    "* Black and white movies almost disappeared completely after 1970s\n",
    "* Short movies are less frequent "
   ]
  },
  {
   "cell_type": "markdown",
   "metadata": {},
   "source": [
    "## Data Analysis Part 2: Statistical tests, Genre vs Historical Events"
   ]
  },
  {
   "cell_type": "code",
   "execution_count": 258,
   "metadata": {},
   "outputs": [],
   "source": [
    "from scipy import stats\n",
    "\n",
    "def movies_by_genre_over_time(df, genre):\n",
    "    \"\"\"\n",
    "    Get the number of movies with a particular genre for every year and the fraction\n",
    "    number movies of genre / total number of movies (for a given year)\n",
    "\n",
    "    returns: DataFrame (cols = [release_date, genre_count, total_count, fraction])\n",
    "    \"\"\"\n",
    "    mask = df['genres'].apply(lambda x: genre in x)\n",
    "    genre_df = df[mask]\n",
    "    genre_df = genre_df.groupby(by='release_date').count()[['name']]\n",
    "    genre_df = genre_df.rename(columns={'name': f'{genre}_count'})\n",
    "    df2 = df.groupby(by='release_date').count()[['name']]\n",
    "    genre_df['total_count'] = df2['name']\n",
    "    genre_df['fraction'] = genre_df[f'{genre}_count'] / genre_df['total_count']\n",
    "    return genre_df\n",
    "\n",
    "def get_idx_from_date(df, event_year):\n",
    "    \"\"\"\n",
    "    Returns the index for a year in the df received from the movies_by_genre_over_time-function\n",
    "    \"\"\"\n",
    "    idx = 0\n",
    "    for year in df.index.values:\n",
    "        if year == event_year:\n",
    "            return idx\n",
    "        idx += 1\n",
    "    return idx\n",
    "\n",
    "def run_ttest_on_event(event, df : pd.DataFrame):\n",
    "    \"\"\"\n",
    "    Runs a t-test comparing the fraction of movies made by genre BEFORE vs AFTER the event occured\n",
    "\n",
    "    return: scipy.stats.ttest\n",
    "    \"\"\"\n",
    "    date = event['date']\n",
    "    if len(date) == 9:\n",
    "        start_date = date.split('-')[0]\n",
    "        end_date = date.split('-')[1]\n",
    "\n",
    "        start_idx = get_idx_from_date(df, start_date)\n",
    "        end_idx = get_idx_from_date(df, end_date)\n",
    "        before_event = df.iloc[:start_idx]\n",
    "        after_event = df.iloc[end_idx:]\n",
    "    else:\n",
    "        idx = get_idx_from_date(df, date)\n",
    "        before_event = df.iloc[:idx]\n",
    "        after_event = df.iloc[idx:]\n",
    "    return stats.ttest_ind(before_event['fraction'], after_event['fraction'])"
   ]
  },
  {
   "cell_type": "code",
   "execution_count": 259,
   "metadata": {},
   "outputs": [
    {
     "data": {
      "text/plain": [
       "Ttest_indResult(statistic=-3.154620348362382, pvalue=0.002134291877531837)"
      ]
     },
     "execution_count": 259,
     "metadata": {},
     "output_type": "execute_result"
    }
   ],
   "source": [
    "# Example usage of these functions. As we can see, there is a significant difference in the occurrences of \"War film\" after the World War II.\n",
    "war_movie_df = movies_by_genre_over_time(movie_df, 'War film')\n",
    "event = {'name': 'World War II', 'date': '1939-1945', 'link': 'https://en.wikipedia.org/wiki/World_War_II'}\n",
    "run_ttest_on_event(event, war_movie_df)"
   ]
  },
  {
   "cell_type": "markdown",
   "metadata": {},
   "source": [
    "Now, lets run the analysis on all events (in AnnotatedListOfEvents.json) against all genres "
   ]
  },
  {
   "cell_type": "code",
   "execution_count": 260,
   "metadata": {},
   "outputs": [
    {
     "name": "stderr",
     "output_type": "stream",
     "text": [
      "/Users/joelrudsberg/opt/anaconda3/lib/python3.9/site-packages/numpy/core/fromnumeric.py:3723: RuntimeWarning: Degrees of freedom <= 0 for slice\n",
      "  return _methods._var(a, axis=axis, dtype=dtype, out=out, ddof=ddof,\n",
      "/Users/joelrudsberg/opt/anaconda3/lib/python3.9/site-packages/numpy/core/_methods.py:254: RuntimeWarning: invalid value encountered in double_scalars\n",
      "  ret = ret.dtype.type(ret / rcount)\n"
     ]
    }
   ],
   "source": [
    "import json\n",
    "\n",
    "def convert_list_to_string(list_):\n",
    "    string = \"\"\n",
    "    for idx, e in enumerate(list_):\n",
    "        if idx == len(list_)-1:\n",
    "            string += str(e)\n",
    "        else:\n",
    "            string += str(e) + \", \"\n",
    "    return string\n",
    "\n",
    "def get_all_unique_genres(df: pd.DataFrame) -> list:\n",
    "    \"\"\"\n",
    "    returns all unique genres in the df\n",
    "    \"\"\"\n",
    "    mydf = df.copy()\n",
    "    mydf['genres'] = mydf['genres'].apply(lambda x: convert_list_to_string(x))\n",
    "    genre_list = mydf['genres'].unique()\n",
    "    genres = []\n",
    "    for genre in genre_list:\n",
    "        genre_list = genre.split(', ')\n",
    "        for e in genre_list:\n",
    "            genres.append(e)\n",
    "    genres = list(set(genres))\n",
    "    return genres\n",
    "\n",
    "def filter_significant_tests(list_of_tests, alpha):\n",
    "    \"\"\"\n",
    "    Returns a list of tests that is significant on significance level alpha\n",
    "    \"\"\"\n",
    "    return [x for x in list_of_tests if x[2][1] < alpha]\n",
    "\n",
    "# Import all historical events\n",
    "f = open('AnnotatedListOfEvents.json')\n",
    "event_data = json.load(f)\n",
    "event_data = event_data['events']\n",
    "\n",
    "# Run analysis \n",
    "genres = get_all_unique_genres(movie_df)\n",
    "ttest_list = []\n",
    "genre_dfs = []\n",
    "for genre in genres:\n",
    "    genre_dfs.append(movies_by_genre_over_time(movie_df, genre))\n",
    "for event in event_data:\n",
    "    for genre_df in genre_dfs:\n",
    "        ttest = run_ttest_on_event(event, genre_df)\n",
    "        ttest_list.append([event, str(genre_df.columns[0]).replace('_count', ''), ttest])"
   ]
  },
  {
   "cell_type": "code",
   "execution_count": 261,
   "metadata": {},
   "outputs": [
    {
     "name": "stdout",
     "output_type": "stream",
     "text": [
      "Number of tests done (Event vs Production of Genre Combinations): 12376\n",
      "Number of significant (alpha = 0.005) increases / descreases after event: 1509\n"
     ]
    }
   ],
   "source": [
    "# Significance level alpha = 0.005\n",
    "significant_ttests = filter_significant_tests(ttest_list, 0.005)\n",
    "print(\"Number of tests done (Event vs Production of Genre Combinations):\", len(ttest_list))\n",
    "print(\"Number of significant (alpha = 0.005) increases / descreases after event:\", len(significant_ttests))"
   ]
  },
  {
   "cell_type": "code",
   "execution_count": 262,
   "metadata": {},
   "outputs": [
    {
     "data": {
      "text/plain": [
       "[{'name': 'President Kennedy Is Assassinated',\n",
       "  'date': '1963',\n",
       "  'link': 'https://en.wikipedia.org/wiki/Assassination_of_John_F._Kennedy'},\n",
       " 'Western',\n",
       " Ttest_indResult(statistic=11.02165651628255, pvalue=2.7833972802420106e-19)]"
      ]
     },
     "execution_count": 262,
     "metadata": {},
     "output_type": "execute_result"
    }
   ],
   "source": [
    "significant_ttests[765]"
   ]
  },
  {
   "cell_type": "markdown",
   "metadata": {},
   "source": [
    "The cell above indicates that after \"President Kennedy Is Assasinated\" occured the production of the \"Horror\"-genre INCREASED, the p-value of this is: p ≈ 1.01e-16"
   ]
  },
  {
   "cell_type": "code",
   "execution_count": 263,
   "metadata": {},
   "outputs": [
    {
     "data": {
      "text/plain": [
       "[{'name': \"Albert Einstein's formulation of special relativity\",\n",
       "  'date': '1905',\n",
       "  'link': 'https://en.wikipedia.org/wiki/Theory_of_relativity'},\n",
       " 'Blackandwhite',\n",
       " Ttest_indResult(statistic=4.726191503541521, pvalue=6.377647001507613e-06)]"
      ]
     },
     "execution_count": 263,
     "metadata": {},
     "output_type": "execute_result"
    }
   ],
   "source": [
    "significant_ttests[10]"
   ]
  },
  {
   "cell_type": "markdown",
   "metadata": {},
   "source": [
    "The cell above indicates that after \"Albert Einstein's formulation of special relativity\" occured the production of the \"Silent film\"-genre DECREASED, the p-value of this is: p ≈ 2.0e-5"
   ]
  },
  {
   "cell_type": "markdown",
   "metadata": {},
   "source": [
    "### Comments"
   ]
  },
  {
   "cell_type": "markdown",
   "metadata": {},
   "source": [
    "At the significance level $\\alpha$ = 0.005, 1,512 out of 12,376 turned out \"significant\". But the exampel above suggests that there still are combinations in this set which doesn't make sense. The event of Albert Einstein publishing his work on special relativity propably didn't cause the genre \"Silent film\" to decrease. We treat the results from the t-tests above as an initial filter. Now we can do further analysis these combinations. The next step of the analysis will be to compare plot summaries of movies to Wikipedia summaries events. By doing this we might be able to see if there actually is any similarity between the historical event and movies that followed it. Example; the plot summaries of the \"Silent films\" that followed Einstein's discovery probabaly won't have anything to do with special relativity and we can rule them out."
   ]
  },
  {
   "cell_type": "markdown",
   "metadata": {},
   "source": [
    "## Data Analysis Part 3: Plot Summaries and Historical Events Similarity"
   ]
  },
  {
   "cell_type": "code",
   "execution_count": 264,
   "metadata": {},
   "outputs": [
    {
     "name": "stdout",
     "output_type": "stream",
     "text": [
      "Requirement already satisfied: gensim in /Users/joelrudsberg/opt/anaconda3/lib/python3.9/site-packages (4.1.2)\n",
      "Requirement already satisfied: scipy>=0.18.1 in /Users/joelrudsberg/opt/anaconda3/lib/python3.9/site-packages (from gensim) (1.7.3)\n",
      "Requirement already satisfied: numpy>=1.17.0 in /Users/joelrudsberg/opt/anaconda3/lib/python3.9/site-packages (from gensim) (1.21.5)\n",
      "Requirement already satisfied: smart-open>=1.8.1 in /Users/joelrudsberg/opt/anaconda3/lib/python3.9/site-packages (from gensim) (5.1.0)\n",
      "Note: you may need to restart the kernel to use updated packages.\n",
      "Requirement already satisfied: nltk in /Users/joelrudsberg/opt/anaconda3/lib/python3.9/site-packages (3.7)\n",
      "Requirement already satisfied: click in /Users/joelrudsberg/opt/anaconda3/lib/python3.9/site-packages (from nltk) (8.0.4)\n",
      "Requirement already satisfied: tqdm in /Users/joelrudsberg/opt/anaconda3/lib/python3.9/site-packages (from nltk) (4.64.0)\n",
      "Requirement already satisfied: joblib in /Users/joelrudsberg/opt/anaconda3/lib/python3.9/site-packages (from nltk) (1.1.0)\n",
      "Requirement already satisfied: regex>=2021.8.3 in /Users/joelrudsberg/opt/anaconda3/lib/python3.9/site-packages (from nltk) (2022.3.15)\n",
      "Note: you may need to restart the kernel to use updated packages.\n"
     ]
    },
    {
     "name": "stderr",
     "output_type": "stream",
     "text": [
      "[nltk_data] Downloading package punkt to\n",
      "[nltk_data]     /Users/joelrudsberg/nltk_data...\n",
      "[nltk_data]   Package punkt is already up-to-date!\n"
     ]
    }
   ],
   "source": [
    "%pip install gensim\n",
    "%pip install nltk\n",
    "from gensim.models.doc2vec import Doc2Vec, TaggedDocument\n",
    "import nltk\n",
    "nltk.download('punkt')\n",
    "from nltk.tokenize import word_tokenize\n",
    "import pathlib\n",
    "import multiprocessing"
   ]
  },
  {
   "cell_type": "code",
   "execution_count": 265,
   "metadata": {},
   "outputs": [],
   "source": [
    "import string\n",
    "\n",
    "def parseDocument(doc):\n",
    "        \"\"\"\n",
    "        Parses a string into a format that is more suitable for later NLP applications.\n",
    "\n",
    "        returns: parsed string\n",
    "        \"\"\"\n",
    "        return word_tokenize(\n",
    "                doc\n",
    "                .lower()\n",
    "                # Remove certain special characters\n",
    "                .replace('\\n', '')\n",
    "                .replace('\\r', '')\n",
    "                # Remove punctuation and special characters\n",
    "                .translate(str.maketrans('', '', string.punctuation))\n",
    "        )\n",
    "\n",
    "# Create new df where we remove all rows with missing plots\n",
    "plot_removed = data_clean_movies(orig_movie_df)\n",
    "plot_removed =  plot_removed[plot_removed['plot'].notna()]\n",
    "\n",
    "# First, we tokenize all plot summaries\n",
    "tokenized_df = plot_removed.copy()\n",
    "tokenized_summaries = tokenized_df['plot'].values\n",
    "tokenized_summaries = [TaggedDocument(parseDocument(doc), [idx]) for idx, doc in enumerate(tokenized_summaries)]"
   ]
  },
  {
   "cell_type": "code",
   "execution_count": 266,
   "metadata": {},
   "outputs": [
    {
     "name": "stdout",
     "output_type": "stream",
     "text": [
      "Start training of Doc2Vec model...\n",
      "Finished training Doc2Vec, saving it to file /Users/joelrudsberg/Desktop/EPFL/Applied Data Analysis/ada-2022-project-adawizardry/doc2vec_model\n"
     ]
    }
   ],
   "source": [
    "def create_doc2vec_model(documents, force_train_new = False):\n",
    "    \"\"\"\n",
    "    Loads existing model from disk if available else trains new model.\n",
    "    Set force_train_new to True to train a new model even if a previous model exists.\n",
    "    \n",
    "    returns: trained Doc2Vec model\n",
    "    \"\"\"\n",
    "\n",
    "    fname = str(pathlib.Path().resolve()) + \"/doc2vec_model\"\n",
    "    if not force_train_new:\n",
    "        # Try to load, if it succeeds then previous model existed so return that one\n",
    "        try:\n",
    "            return Doc2Vec.load(fname)\n",
    "        except:\n",
    "            print(\"Failed to load existing model\")\n",
    "\n",
    "    # Train model\n",
    "    print(\"Start training of Doc2Vec model...\")\n",
    "    model = Doc2Vec(\n",
    "        documents, \n",
    "        window=2, \n",
    "        min_count=1, \n",
    "        workers=multiprocessing.cpu_count(), \n",
    "        epochs = 100\n",
    "    )\n",
    "    \n",
    "    # Persist the model\n",
    "    print(f\"Finished training Doc2Vec, saving it to file {fname}\")\n",
    "    model.save(fname)\n",
    "    return model\n",
    "\n",
    "# Train the doc2vec model\n",
    "model = create_doc2vec_model(tokenized_summaries, force_train_new=False)"
   ]
  },
  {
   "cell_type": "code",
   "execution_count": 268,
   "metadata": {},
   "outputs": [
    {
     "data": {
      "text/html": [
       "<div>\n",
       "<style scoped>\n",
       "    .dataframe tbody tr th:only-of-type {\n",
       "        vertical-align: middle;\n",
       "    }\n",
       "\n",
       "    .dataframe tbody tr th {\n",
       "        vertical-align: top;\n",
       "    }\n",
       "\n",
       "    .dataframe thead th {\n",
       "        text-align: right;\n",
       "    }\n",
       "</style>\n",
       "<table border=\"1\" class=\"dataframe\">\n",
       "  <thead>\n",
       "    <tr style=\"text-align: right;\">\n",
       "      <th></th>\n",
       "      <th>name</th>\n",
       "      <th>similarity</th>\n",
       "      <th>release_date</th>\n",
       "      <th>plot</th>\n",
       "    </tr>\n",
       "  </thead>\n",
       "  <tbody>\n",
       "    <tr>\n",
       "      <th>41722</th>\n",
       "      <td>Apollo 13</td>\n",
       "      <td>0.647593</td>\n",
       "      <td>1995</td>\n",
       "      <td>On July 20, 1969, veteran astronaut Jim Lovell...</td>\n",
       "    </tr>\n",
       "    <tr>\n",
       "      <th>27366</th>\n",
       "      <td>Rocket Man</td>\n",
       "      <td>0.646027</td>\n",
       "      <td>1997</td>\n",
       "      <td>NASA is training for the first manned mission ...</td>\n",
       "    </tr>\n",
       "    <tr>\n",
       "      <th>41063</th>\n",
       "      <td>The Dream is Alive</td>\n",
       "      <td>0.645861</td>\n",
       "      <td>1985</td>\n",
       "      <td>The movie includes scenes from numerous shuttl...</td>\n",
       "    </tr>\n",
       "    <tr>\n",
       "      <th>16494</th>\n",
       "      <td>Ice Station Zebra</td>\n",
       "      <td>0.619664</td>\n",
       "      <td>1968</td>\n",
       "      <td>A satellite reenters the atmosphere and ejects...</td>\n",
       "    </tr>\n",
       "    <tr>\n",
       "      <th>5494</th>\n",
       "      <td>Crimson Tide</td>\n",
       "      <td>0.608649</td>\n",
       "      <td>1995</td>\n",
       "      <td>In post-Soviet Russia, military units loyal to...</td>\n",
       "    </tr>\n",
       "    <tr>\n",
       "      <th>13494</th>\n",
       "      <td>2010: The Year We Make Contact</td>\n",
       "      <td>0.600296</td>\n",
       "      <td>1984</td>\n",
       "      <td>Nine years earlier, the American Discovery One...</td>\n",
       "    </tr>\n",
       "    <tr>\n",
       "      <th>22286</th>\n",
       "      <td>World Without Sun</td>\n",
       "      <td>0.592510</td>\n",
       "      <td>1964</td>\n",
       "      <td>World Without Sun, a documentary produced and ...</td>\n",
       "    </tr>\n",
       "    <tr>\n",
       "      <th>21905</th>\n",
       "      <td>WALL-E</td>\n",
       "      <td>0.589848</td>\n",
       "      <td>2008</td>\n",
       "      <td>In 2805, Earth is covered in garbage due to de...</td>\n",
       "    </tr>\n",
       "    <tr>\n",
       "      <th>6821</th>\n",
       "      <td>The Bedford Incident</td>\n",
       "      <td>0.582617</td>\n",
       "      <td>1965</td>\n",
       "      <td>The American destroyer USS Bedford  detects a ...</td>\n",
       "    </tr>\n",
       "    <tr>\n",
       "      <th>28940</th>\n",
       "      <td>Race to Mars</td>\n",
       "      <td>0.581470</td>\n",
       "      <td>2008</td>\n",
       "      <td>The four-hour mini-series begins in the year 2...</td>\n",
       "    </tr>\n",
       "  </tbody>\n",
       "</table>\n",
       "</div>"
      ],
      "text/plain": [
       "                                 name  similarity release_date  \\\n",
       "41722                       Apollo 13    0.647593         1995   \n",
       "27366                      Rocket Man    0.646027         1997   \n",
       "41063              The Dream is Alive    0.645861         1985   \n",
       "16494               Ice Station Zebra    0.619664         1968   \n",
       "5494                     Crimson Tide    0.608649         1995   \n",
       "13494  2010: The Year We Make Contact    0.600296         1984   \n",
       "22286               World Without Sun    0.592510         1964   \n",
       "21905                          WALL-E    0.589848         2008   \n",
       "6821             The Bedford Incident    0.582617         1965   \n",
       "28940                    Race to Mars    0.581470         2008   \n",
       "\n",
       "                                                    plot  \n",
       "41722  On July 20, 1969, veteran astronaut Jim Lovell...  \n",
       "27366  NASA is training for the first manned mission ...  \n",
       "41063  The movie includes scenes from numerous shuttl...  \n",
       "16494  A satellite reenters the atmosphere and ejects...  \n",
       "5494   In post-Soviet Russia, military units loyal to...  \n",
       "13494  Nine years earlier, the American Discovery One...  \n",
       "22286  World Without Sun, a documentary produced and ...  \n",
       "21905  In 2805, Earth is covered in garbage due to de...  \n",
       "6821   The American destroyer USS Bedford  detects a ...  \n",
       "28940  The four-hour mini-series begins in the year 2...  "
      ]
     },
     "execution_count": 268,
     "metadata": {},
     "output_type": "execute_result"
    }
   ],
   "source": [
    "# As a proof-of-concept we run the word2vec model using the event of Apollo 13 (the text is copied from Wikipedia).\n",
    "\n",
    "apollo_wiki = \"\"\"Apollo 13 (April 11–17, 1970) was the seventh crewed mission in the Apollo space program and the third meant to land on the Moon. The craft was launched from Kennedy Space Center on April 11, 1970, but the lunar landing was aborted after an oxygen tank in the service module (SM) failed two days into the mission. The crew instead looped around the Moon and returned safely to Earth on April 17. The mission was commanded by Jim Lovell, with Jack Swigert as command module (CM) pilot and Fred Haise as Lunar Module (LM) pilot. Swigert was a late replacement for Ken Mattingly, who was grounded after exposure to rubella.\n",
    "\n",
    "A routine stir of an oxygen tank ignited damaged wire insulation inside it, causing an explosion that vented the contents of both of the SM's oxygen tanks to space. Without oxygen, needed for breathing and for generating electric power, the SM's propulsion and life support systems could not operate. The CM's systems had to be shut down to conserve its remaining resources for reentry, forcing the crew to transfer to the LM as a lifeboat. With the lunar landing canceled, mission controllers worked to bring the crew home alive.\n",
    "\n",
    "Although the LM was designed to support two men on the lunar surface for two days, Mission Control in Houston improvised new procedures so it could support three men for four days. The crew experienced great hardship, caused by limited power, a chilly and wet cabin and a shortage of potable water. There was a critical need to adapt the CM's cartridges for the carbon dioxide scrubber system to work in the LM; the crew and mission controllers were successful in improvising a solution. The astronauts' peril briefly renewed public interest in the Apollo program; tens of millions watched the splashdown in the South Pacific Ocean on television.\n",
    "\n",
    "An investigative review board found fault with preflight testing of the oxygen tank and Teflon being placed inside it. The board recommended changes, including minimizing the use of potentially combustible items inside the tank; this was done for Apollo 14. The story of Apollo 13 has been dramatized several times, most notably in the 1995 film Apollo 13 – based on Lost Moon, the 1994 memoir co-authored by Lovell – and an episode of the 1998 miniseries From the Earth to the Moon.\"\"\"\n",
    "\n",
    "# Use the model to create a vectorized representation of the event text\n",
    "test_doc = parseDocument(apollo_wiki)\n",
    "test_vector = model.infer_vector(test_doc)\n",
    "\n",
    "# Compare the event vector against all vectors of the movie summaries and extract the top 10 most similar ones\n",
    "top_similar = model.dv.most_similar(positive=[test_vector],topn=10)\n",
    "\n",
    "# Create a df from this and merge with movie_df so we can get some movie information\n",
    "top_similar_df = pd.DataFrame(top_similar, columns=[\"id\", \"similarity\"]).set_index(\"id\")\n",
    "plot_removed = plot_removed.reset_index(drop=True)\n",
    "top_similar_df = pd.merge(top_similar_df, plot_removed, left_index=True, right_index=True)[[\"name\", \"similarity\", \"release_date\", \"plot\"]]\n",
    "top_similar_df"
   ]
  },
  {
   "cell_type": "markdown",
   "metadata": {},
   "source": [
    "### Comments\n",
    "As expected, the top 10 movies are similar in terms of plot to the Apollo 13 event. With this proof-of-concept we have proved that it's possible to match movie plots to wikipedia summaries. We now have a great foundation to further develop our work, as outlined in the READ.ME."
   ]
  }
 ],
 "metadata": {
  "kernelspec": {
   "display_name": "Python 3.9.12 ('base')",
   "language": "python",
   "name": "python3"
  },
  "language_info": {
   "codemirror_mode": {
    "name": "ipython",
    "version": 3
   },
   "file_extension": ".py",
   "mimetype": "text/x-python",
   "name": "python",
   "nbconvert_exporter": "python",
   "pygments_lexer": "ipython3",
   "version": "3.9.12"
  },
  "orig_nbformat": 4,
  "vscode": {
   "interpreter": {
    "hash": "f1a25ef6bf77780c5a5c4bfd63a528b787746ea71089d4a07d4b6ef93ea62829"
   }
  }
 },
 "nbformat": 4,
 "nbformat_minor": 2
}
