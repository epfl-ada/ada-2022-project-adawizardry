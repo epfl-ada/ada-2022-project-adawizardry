{
 "cells": [
  {
   "cell_type": "markdown",
   "metadata": {},
   "source": [
    "# Project Milestone 2 Pipeline\n",
    "* That you can handle the data in its size.\n",
    "* That you understand what’s in the data (formats, distributions, missing values, correlations, etc.).\n",
    "* That you considered ways to enrich, filter, transform the data according to your needs.\n",
    "* That you have a reasonable plan and ideas for methods you’re going to use, giving their essential mathematical details in the notebook.\n",
    "* That your plan for analysis and communication is reasonable and sound, potentially discussing alternatives to your choices that you considered but dropped."
   ]
  },
  {
   "cell_type": "code",
   "execution_count": 1,
   "metadata": {},
   "outputs": [],
   "source": [
    "import pandas as pd\n",
    "import numpy as np\n",
    "import matplotlib.pyplot as plt"
   ]
  },
  {
   "cell_type": "code",
   "execution_count": 102,
   "metadata": {},
   "outputs": [],
   "source": [
    "movie_cols = [\"wiki_id\", \"freebase_id\", \"name\", \"release_date\", \"revenue\", \"runtime\", \"languages\", \"countries\", \"genres\"]\n",
    "movie_df = pd.read_csv(\n",
    "    './rawdata/MovieSummaries/movie.metadata.tsv', \n",
    "    sep=\"\\t\", \n",
    "    names=movie_cols\n",
    ")\n",
    "#characters_df = pd.read_csv(\n",
    "#    './MovieSummaries/character.metadata.tsv',\n",
    "#    index_col=False, \n",
    "#    sep=\"\\t\", \n",
    "#    names=[\"wiki_id\", \"freebase_id\", \"X\", \"character_name\", \"actor_dob\", \"actor_gender\", \"actor_height\", \"actor_ethnicity\", \"actor_name\", \"actor_release_date_age\"]\n",
    "#)\n",
    "#characters_df = characters_df.drop(columns=\"X\")\n",
    "name_df = pd.read_csv(\n",
    "    './rawdata/MovieSummaries/name.clusters.txt', \n",
    "    sep=\"\\t\",\n",
    "    names = ['character_name', \"freebase_id\"]\n",
    ")"
   ]
  },
  {
   "cell_type": "markdown",
   "metadata": {},
   "source": [
    "## Basic Data Cleaning"
   ]
  },
  {
   "cell_type": "code",
   "execution_count": 148,
   "metadata": {},
   "outputs": [
    {
     "data": {
      "text/html": [
       "<div>\n",
       "<style scoped>\n",
       "    .dataframe tbody tr th:only-of-type {\n",
       "        vertical-align: middle;\n",
       "    }\n",
       "\n",
       "    .dataframe tbody tr th {\n",
       "        vertical-align: top;\n",
       "    }\n",
       "\n",
       "    .dataframe thead th {\n",
       "        text-align: right;\n",
       "    }\n",
       "</style>\n",
       "<table border=\"1\" class=\"dataframe\">\n",
       "  <thead>\n",
       "    <tr style=\"text-align: right;\">\n",
       "      <th></th>\n",
       "      <th>wiki_id</th>\n",
       "      <th>freebase_id</th>\n",
       "      <th>name</th>\n",
       "      <th>release_date</th>\n",
       "      <th>revenue</th>\n",
       "      <th>runtime</th>\n",
       "      <th>languages</th>\n",
       "      <th>countries</th>\n",
       "      <th>genres</th>\n",
       "    </tr>\n",
       "  </thead>\n",
       "  <tbody>\n",
       "    <tr>\n",
       "      <th>0</th>\n",
       "      <td>975900</td>\n",
       "      <td>/m/03vyhn</td>\n",
       "      <td>Ghosts of Mars</td>\n",
       "      <td>2001</td>\n",
       "      <td>14010832</td>\n",
       "      <td>98</td>\n",
       "      <td>[English]</td>\n",
       "      <td>[United States of America]</td>\n",
       "      <td>[Action, Adventure, Horror, Science Fiction, S...</td>\n",
       "    </tr>\n",
       "    <tr>\n",
       "      <th>1</th>\n",
       "      <td>3196793</td>\n",
       "      <td>/m/08yl5d</td>\n",
       "      <td>Getting Away with Murder: The JonBenét Ramsey ...</td>\n",
       "      <td>2000</td>\n",
       "      <td>0</td>\n",
       "      <td>95</td>\n",
       "      <td>[English]</td>\n",
       "      <td>[United States of America]</td>\n",
       "      <td>[Biographical film, Crime Drama, Drama, Mystery]</td>\n",
       "    </tr>\n",
       "    <tr>\n",
       "      <th>2</th>\n",
       "      <td>28463795</td>\n",
       "      <td>/m/0crgdbh</td>\n",
       "      <td>Brun bitter</td>\n",
       "      <td>1988</td>\n",
       "      <td>0</td>\n",
       "      <td>83</td>\n",
       "      <td>[Norwegian]</td>\n",
       "      <td>[Norway]</td>\n",
       "      <td>[Crime Fiction, Drama]</td>\n",
       "    </tr>\n",
       "    <tr>\n",
       "      <th>3</th>\n",
       "      <td>9363483</td>\n",
       "      <td>/m/0285_cd</td>\n",
       "      <td>White Of The Eye</td>\n",
       "      <td>1987</td>\n",
       "      <td>0</td>\n",
       "      <td>110</td>\n",
       "      <td>[English]</td>\n",
       "      <td>[United Kingdom]</td>\n",
       "      <td>[Erotic thriller, Psychological thriller, Thri...</td>\n",
       "    </tr>\n",
       "    <tr>\n",
       "      <th>4</th>\n",
       "      <td>261236</td>\n",
       "      <td>/m/01mrr1</td>\n",
       "      <td>A Woman in Flames</td>\n",
       "      <td>1983</td>\n",
       "      <td>0</td>\n",
       "      <td>106</td>\n",
       "      <td>[German]</td>\n",
       "      <td>[Germany]</td>\n",
       "      <td>[Drama]</td>\n",
       "    </tr>\n",
       "    <tr>\n",
       "      <th>...</th>\n",
       "      <td>...</td>\n",
       "      <td>...</td>\n",
       "      <td>...</td>\n",
       "      <td>...</td>\n",
       "      <td>...</td>\n",
       "      <td>...</td>\n",
       "      <td>...</td>\n",
       "      <td>...</td>\n",
       "      <td>...</td>\n",
       "    </tr>\n",
       "    <tr>\n",
       "      <th>81736</th>\n",
       "      <td>35228177</td>\n",
       "      <td>/m/0j7hxnt</td>\n",
       "      <td>Mermaids: The Body Found</td>\n",
       "      <td>2011</td>\n",
       "      <td>0</td>\n",
       "      <td>120</td>\n",
       "      <td>[English]</td>\n",
       "      <td>[United States of America]</td>\n",
       "      <td>[Drama]</td>\n",
       "    </tr>\n",
       "    <tr>\n",
       "      <th>81737</th>\n",
       "      <td>34980460</td>\n",
       "      <td>/m/0g4pl34</td>\n",
       "      <td>Knuckle</td>\n",
       "      <td>2011</td>\n",
       "      <td>0</td>\n",
       "      <td>96</td>\n",
       "      <td>[English]</td>\n",
       "      <td>[Ireland, United Kingdom]</td>\n",
       "      <td>[Biographical film, Documentary, Drama]</td>\n",
       "    </tr>\n",
       "    <tr>\n",
       "      <th>81738</th>\n",
       "      <td>9971909</td>\n",
       "      <td>/m/02pygw1</td>\n",
       "      <td>Another Nice Mess</td>\n",
       "      <td>1972</td>\n",
       "      <td>0</td>\n",
       "      <td>66</td>\n",
       "      <td>[English]</td>\n",
       "      <td>[United States of America]</td>\n",
       "      <td>[Comedy, Satire]</td>\n",
       "    </tr>\n",
       "    <tr>\n",
       "      <th>81739</th>\n",
       "      <td>913762</td>\n",
       "      <td>/m/03pcrp</td>\n",
       "      <td>The Super Dimension Fortress Macross II: Lover...</td>\n",
       "      <td>1992</td>\n",
       "      <td>0</td>\n",
       "      <td>150</td>\n",
       "      <td>[Japanese]</td>\n",
       "      <td>[Japan]</td>\n",
       "      <td>[Adventure, Animation, Anime, Drama, Japanese ...</td>\n",
       "    </tr>\n",
       "    <tr>\n",
       "      <th>81740</th>\n",
       "      <td>12476867</td>\n",
       "      <td>/m/02w7zz8</td>\n",
       "      <td>Spliced</td>\n",
       "      <td>2002</td>\n",
       "      <td>0</td>\n",
       "      <td>86</td>\n",
       "      <td>[English]</td>\n",
       "      <td>[Canada]</td>\n",
       "      <td>[Horror, Slasher, Teen, Thriller]</td>\n",
       "    </tr>\n",
       "  </tbody>\n",
       "</table>\n",
       "<p>81741 rows × 9 columns</p>\n",
       "</div>"
      ],
      "text/plain": [
       "        wiki_id freebase_id  \\\n",
       "0        975900   /m/03vyhn   \n",
       "1       3196793   /m/08yl5d   \n",
       "2      28463795  /m/0crgdbh   \n",
       "3       9363483  /m/0285_cd   \n",
       "4        261236   /m/01mrr1   \n",
       "...         ...         ...   \n",
       "81736  35228177  /m/0j7hxnt   \n",
       "81737  34980460  /m/0g4pl34   \n",
       "81738   9971909  /m/02pygw1   \n",
       "81739    913762   /m/03pcrp   \n",
       "81740  12476867  /m/02w7zz8   \n",
       "\n",
       "                                                    name release_date  \\\n",
       "0                                         Ghosts of Mars         2001   \n",
       "1      Getting Away with Murder: The JonBenét Ramsey ...         2000   \n",
       "2                                            Brun bitter         1988   \n",
       "3                                       White Of The Eye         1987   \n",
       "4                                      A Woman in Flames         1983   \n",
       "...                                                  ...          ...   \n",
       "81736                           Mermaids: The Body Found         2011   \n",
       "81737                                            Knuckle         2011   \n",
       "81738                                  Another Nice Mess         1972   \n",
       "81739  The Super Dimension Fortress Macross II: Lover...         1992   \n",
       "81740                                            Spliced         2002   \n",
       "\n",
       "        revenue  runtime    languages                   countries  \\\n",
       "0      14010832       98    [English]  [United States of America]   \n",
       "1             0       95    [English]  [United States of America]   \n",
       "2             0       83  [Norwegian]                    [Norway]   \n",
       "3             0      110    [English]            [United Kingdom]   \n",
       "4             0      106     [German]                   [Germany]   \n",
       "...         ...      ...          ...                         ...   \n",
       "81736         0      120    [English]  [United States of America]   \n",
       "81737         0       96    [English]   [Ireland, United Kingdom]   \n",
       "81738         0       66    [English]  [United States of America]   \n",
       "81739         0      150   [Japanese]                     [Japan]   \n",
       "81740         0       86    [English]                    [Canada]   \n",
       "\n",
       "                                                  genres  \n",
       "0      [Action, Adventure, Horror, Science Fiction, S...  \n",
       "1       [Biographical film, Crime Drama, Drama, Mystery]  \n",
       "2                                 [Crime Fiction, Drama]  \n",
       "3      [Erotic thriller, Psychological thriller, Thri...  \n",
       "4                                                [Drama]  \n",
       "...                                                  ...  \n",
       "81736                                            [Drama]  \n",
       "81737            [Biographical film, Documentary, Drama]  \n",
       "81738                                   [Comedy, Satire]  \n",
       "81739  [Adventure, Animation, Anime, Drama, Japanese ...  \n",
       "81740                  [Horror, Slasher, Teen, Thriller]  \n",
       "\n",
       "[81741 rows x 9 columns]"
      ]
     },
     "execution_count": 148,
     "metadata": {},
     "output_type": "execute_result"
    }
   ],
   "source": [
    "import re\n",
    "\n",
    "movie_df = pd.read_csv(\n",
    "    './rawdata/MovieSummaries/movie.metadata.tsv', \n",
    "    sep=\"\\t\", \n",
    "    names=movie_cols\n",
    ")\n",
    "\n",
    "# Parses the multi value structure of the dataset format into a sorted array of items\n",
    "# Returns null values for empty lists as NaN (so all missing values we use are NaN)\n",
    "def parse_multi_values(x): \n",
    "    if not x: \n",
    "        return []\n",
    "    x = x.split(',')\n",
    "    result = []\n",
    "    for combo in x: \n",
    "        combo = combo.split(\":\")\n",
    "        if len(combo) > 1: \n",
    "            combo[1] = re.sub(\"[^a-zA-Z0-9\\s]+\", \"\", combo[1])\n",
    "            combo[1] = re.sub(\"^\\s\", \"\", combo[1])\n",
    "            combo[1] = combo[1].strip()\n",
    "            result.append(combo[1])\n",
    "    if not result:\n",
    "        return []\n",
    "    return sorted(result)\n",
    "\n",
    "# Parses the language column specifically by removing \"Langauge\" from each entry\n",
    "def parse_language(languages):\n",
    "    if not languages or type(languages) != list:\n",
    "        return []\n",
    "    return list(map(lambda l : l.replace(\"Language\", \"\").strip(), languages))\n",
    "\n",
    "# Parses the date format into an int representing only the year. Values with missing entries are given NaN.\n",
    "def parse_date(x):\n",
    "    if not x or x == np.nan:\n",
    "        return np.NaN\n",
    "    return str(x).split(\"-\")[0]\n",
    "\n",
    "# Parse multi value attributes into arrays\n",
    "for attribute in [\"languages\", \"countries\", \"genres\"]:\n",
    "    movie_df[attribute] = movie_df[attribute].apply(parse_multi_values)\n",
    "\n",
    "# Remove \"Language\" from language column\n",
    "movie_df[\"languages\"] = movie_df[\"languages\"].apply(parse_language)\n",
    "\n",
    "# Parse release-date to all use the year as an int (don't need increased granularity right now)\n",
    "movie_df[\"release_date\"] = movie_df[\"release_date\"].apply(parse_date)\n",
    "\n",
    "# Replace missing numeric values with zero and convert to int rather than float\n",
    "for col in [\"runtime\", \"revenue\"]:\n",
    "    movie_df[col] = movie_df[col].fillna(0)\n",
    "    movie_df[col] = movie_df[col].astype(int)\n"
   ]
  },
  {
   "cell_type": "markdown",
   "metadata": {},
   "source": [
    "## Analyzing missing values"
   ]
  },
  {
   "cell_type": "code",
   "execution_count": 149,
   "metadata": {},
   "outputs": [
    {
     "name": "stdout",
     "output_type": "stream",
     "text": [
      "{'revenue': 73340, 'runtime': 20507, 'languages': 13866, 'countries': 8154, 'genres': 2294}\n"
     ]
    },
    {
     "data": {
      "image/png": "[encoded data removed]",
      "text/plain": [
       "<Figure size 432x288 with 1 Axes>"
      ]
     },
     "metadata": {
      "needs_background": "light"
     },
     "output_type": "display_data"
    },
    {
     "name": "stdout",
     "output_type": "stream",
     "text": [
      "Rows without any missing data is 81741\n"
     ]
    }
   ],
   "source": [
    "# Let's check to what extent we have missing data\n",
    "# For each column, count the number of missing data and plot a bar graph\n",
    "def analyze_missing_values(df : pd.DataFrame): \n",
    "    # Dictionary from col to missing values count \n",
    "    missing = {}\n",
    "    for col in df.columns:\n",
    "        # Missing are na or empty falsy values such as empty lists\n",
    "        num_missing = df[col].isna().sum() + (df[col].astype(bool) == False).sum()\n",
    "        if num_missing > 0:\n",
    "            missing[col] = num_missing\n",
    "    print(missing)\n",
    "    plt.bar(list(missing.keys()), list(missing.values()))\n",
    "    plt.title(\"Features with missing data (total movies = \" + str(df.shape[0]) + \")\")\n",
    "    plt.ylabel(\"Movies missing this feature\")\n",
    "    plt.show()\n",
    "\n",
    "    # Count how many rows are without any missing values\n",
    "    non_missing = (df.notnull().all(axis=\"columns\") == True).sum()\n",
    "    print(\"Rows without any missing data is\", non_missing)\n",
    "\n",
    "analyze_missing_values(movie_df)"
   ]
  },
  {
   "cell_type": "markdown",
   "metadata": {},
   "source": [
    "## Basic data analysis "
   ]
  },
  {
   "cell_type": "code",
   "execution_count": 180,
   "metadata": {},
   "outputs": [
    {
     "data": {
      "image/png": "[encoded data removed]",
      "text/plain": [
       "<Figure size 432x288 with 1 Axes>"
      ]
     },
     "metadata": {
      "needs_background": "light"
     },
     "output_type": "display_data"
    },
    {
     "name": "stdout",
     "output_type": "stream",
     "text": [
      "118 of movies have genre's that only occurr 20 times in the dataset\n"
     ]
    }
   ],
   "source": [
    "# Let's plot the popularity of genres over time \n",
    "# Y-axis being number of movies and genres \n",
    "\n",
    "# Function that maps a list of items in a series \n",
    "def to_1D(series):\n",
    "    return pd.Series([x for _list in series for x in _list])\n",
    "\n",
    "# Let's plot the top genres\n",
    "genres = to_1D(movie_df[\"genres\"]).value_counts()\n",
    "top_k = 15\n",
    "top_genres = genres.head(n=top_k)\n",
    "plt.bar(top_genres.index, top_genres.values)\n",
    "plt.title(f\"Top {top_k} popular genres (total genres = {len(genres)})\")\n",
    "plt.ylabel(\"Number of movies\")\n",
    "plt.xticks(\n",
    "    rotation=45, \n",
    "    horizontalalignment='right',\n",
    "    fontweight='light',\n",
    ")\n",
    "plt.show()\n",
    "\n",
    "obscure_threshold = 20\n",
    "obscure_genres = genres[genres <= obscure_threshold]\n",
    "print(f\"{len(obscure_genres)} of movies have genre's that only occurr {obscure_threshold} times in the dataset\")\n"
   ]
  },
  {
   "cell_type": "markdown",
   "metadata": {},
   "source": [
    "## Cleaning up \"release_date\""
   ]
  },
  {
   "cell_type": "code",
   "execution_count": 47,
   "metadata": {},
   "outputs": [
    {
     "data": {
      "text/plain": [
       "count     129.000000\n",
       "mean      580.139535\n",
       "std       533.896083\n",
       "min         1.000000\n",
       "25%       272.000000\n",
       "50%       518.000000\n",
       "75%       687.000000\n",
       "max      2465.000000\n",
       "Name: wiki_id, dtype: float64"
      ]
     },
     "execution_count": 47,
     "metadata": {},
     "output_type": "execute_result"
    }
   ],
   "source": [
    "\n",
    "movie_count = movie_df.groupby(\"release_date\").count()[\"wiki_id\"]\n",
    "movie_count = movie_count.dropna()\n",
    "movie_count = movie_count.sort_values()[1:-1]\n",
    "movie_count.describe()"
   ]
  }
 ],
 "metadata": {
  "kernelspec": {
   "display_name": "Python 3.9.12 ('base')",
   "language": "python",
   "name": "python3"
  },
  "language_info": {
   "codemirror_mode": {
    "name": "ipython",
    "version": 3
   },
   "file_extension": ".py",
   "mimetype": "text/x-python",
   "name": "python",
   "nbconvert_exporter": "python",
   "pygments_lexer": "ipython3",
   "version": "3.9.12"
  },
  "orig_nbformat": 4,
  "vscode": {
   "interpreter": {
    "hash": "f1a25ef6bf77780c5a5c4bfd63a528b787746ea71089d4a07d4b6ef93ea62829"
   }
  }
 },
 "nbformat": 4,
 "nbformat_minor": 2
}
