{
 "cells": [
  {
   "cell_type": "markdown",
   "metadata": {},
   "source": [
    "# Project Milestone 2 Pipeline\n",
    "* That you can handle the data in its size.\n",
    "* That you understand what’s in the data (formats, distributions, missing values, correlations, etc.).\n",
    "* That you considered ways to enrich, filter, transform the data according to your needs.\n",
    "* That you have a reasonable plan and ideas for methods you’re going to use, giving their essential mathematical details in the notebook.\n",
    "* That your plan for analysis and communication is reasonable and sound, potentially discussing alternatives to your choices that you considered but dropped."
   ]
  },
  {
   "cell_type": "code",
   "execution_count": 1,
   "metadata": {},
   "outputs": [],
   "source": [
    "import pandas as pd\n",
    "import numpy as np\n",
    "import matplotlib.pyplot as plt"
   ]
  },
  {
   "cell_type": "code",
   "execution_count": 35,
   "metadata": {},
   "outputs": [],
   "source": [
    "movie_cols = [\"wiki_id\", \"freebase_id\", \"name\", \"release_date\", \"revenue\", \"runtime\", \"languages\", \"countries\", \"genres\"]\n",
    "movie_df = pd.read_csv(\n",
    "    './rawdata/MovieSummaries/movie.metadata.tsv', \n",
    "    sep=\"\\t\", \n",
    "    names=movie_cols\n",
    ")\n",
    "#characters_df = pd.read_csv(\n",
    "#    './MovieSummaries/character.metadata.tsv',\n",
    "#    index_col=False, \n",
    "#    sep=\"\\t\", \n",
    "#    names=[\"wiki_id\", \"freebase_id\", \"X\", \"character_name\", \"actor_dob\", \"actor_gender\", \"actor_height\", \"actor_ethnicity\", \"actor_name\", \"actor_release_date_age\"]\n",
    "#)\n",
    "#characters_df = characters_df.drop(columns=\"X\")\n",
    "name_df = pd.read_csv(\n",
    "    './rawdata/MovieSummaries/name.clusters.txt', \n",
    "    sep=\"\\t\",\n",
    "    names = ['character_name', \"freebase_id\"]\n",
    ")"
   ]
  },
  {
   "cell_type": "markdown",
   "metadata": {},
   "source": [
    "## Basic Data Cleaning"
   ]
  },
  {
   "cell_type": "code",
   "execution_count": 36,
   "metadata": {},
   "outputs": [],
   "source": [
    "import re\n",
    "\n",
    "# Parses the multi value structure of the dataset format into a sorted array of items\n",
    "def parse_multi_values(x): \n",
    "    if not x : \n",
    "        return []\n",
    "    x = x.split(',')\n",
    "    result = []\n",
    "    for combo in x: \n",
    "        combo = combo.split(\":\")\n",
    "        if len(combo) > 1: \n",
    "            combo[1] = re.sub(\"[^a-zA-Z0-9\\s]+\", \"\", combo[1])\n",
    "            combo[1] = re.sub(\"^\\s\", \"\", combo[1])\n",
    "            result.append(combo[1])\n",
    "    return sorted(result)\n",
    "\n",
    "# Parses the date format into an int representing only the year. Values with missing entries are given NaN.\n",
    "def parse_date(x):\n",
    "    if not x or x == np.nan:\n",
    "        return np.NaN\n",
    "    return str(x).split(\"-\")[0]\n",
    "\n",
    "# Parse multi value attributes into arrays\n",
    "for attribute in [\"languages\", \"countries\", \"genres\"]:\n",
    "    movie_df[attribute] = movie_df[attribute].apply(parse_multi_values)\n",
    "\n",
    "# Parse release-date to all use the year as an int (don't need increased granularity right now)\n",
    "movie_df[\"release_date\"] = movie_df[\"release_date\"].apply(parse_date)\n"
   ]
  },
  {
   "cell_type": "markdown",
   "metadata": {},
   "source": [
    "## Analyzing missing values"
   ]
  },
  {
   "cell_type": "code",
   "execution_count": 47,
   "metadata": {},
   "outputs": [
    {
     "name": "stdout",
     "output_type": "stream",
     "text": [
      "{'revenue': 73340, 'runtime': 20450}\n"
     ]
    },
    {
     "data": {
      "image/png": "[encoded data removed]",
      "text/plain": [
       "<Figure size 432x288 with 1 Axes>"
      ]
     },
     "metadata": {
      "needs_background": "light"
     },
     "output_type": "display_data"
    }
   ],
   "source": [
    "# Let's check to what extent we have missing data\n",
    "# For each column, count the number of missing data and plot a bar graph\n",
    "def analyze_missing_values(df : pd.DataFrame): \n",
    "    # Dictionary from col to missing values count \n",
    "    missing = {}\n",
    "    for col in df.columns:\n",
    "        num_na = df[col].isna().sum()\n",
    "        if num_na > 0:\n",
    "            missing[col] = num_na\n",
    "    print(missing)\n",
    "    plt.bar(list(missing.keys()), list(missing.values()))\n",
    "    plt.title(\"Features with missing data (total movies = \" + str(df.shape[0]) + \")\")\n",
    "    plt.ylabel(\"Movies missing this feature\")\n",
    "    plt.show()\n",
    "\n",
    "# As we can see, roughly 7/8 of all movies are missing the revenue data and 2/8 runtime data\n",
    "analyze_missing_values(movie_df)"
   ]
  },
  {
   "cell_type": "markdown",
   "metadata": {},
   "source": [
    "## Cleaning up \"release_date\""
   ]
  },
  {
   "cell_type": "code",
   "execution_count": 47,
   "metadata": {},
   "outputs": [
    {
     "data": {
      "text/plain": [
       "count     129.000000\n",
       "mean      580.139535\n",
       "std       533.896083\n",
       "min         1.000000\n",
       "25%       272.000000\n",
       "50%       518.000000\n",
       "75%       687.000000\n",
       "max      2465.000000\n",
       "Name: wiki_id, dtype: float64"
      ]
     },
     "execution_count": 47,
     "metadata": {},
     "output_type": "execute_result"
    }
   ],
   "source": [
    "\n",
    "movie_count = movie_df.groupby(\"release_date\").count()[\"wiki_id\"]\n",
    "movie_count = movie_count.dropna()\n",
    "movie_count = movie_count.sort_values()[1:-1]\n",
    "movie_count.describe()"
   ]
  },
  {
   "cell_type": "code",
   "execution_count": 48,
   "metadata": {},
   "outputs": [
    {
     "data": {
      "text/html": [
       "<div>\n",
       "<style scoped>\n",
       "    .dataframe tbody tr th:only-of-type {\n",
       "        vertical-align: middle;\n",
       "    }\n",
       "\n",
       "    .dataframe tbody tr th {\n",
       "        vertical-align: top;\n",
       "    }\n",
       "\n",
       "    .dataframe thead th {\n",
       "        text-align: right;\n",
       "    }\n",
       "</style>\n",
       "<table border=\"1\" class=\"dataframe\">\n",
       "  <thead>\n",
       "    <tr style=\"text-align: right;\">\n",
       "      <th></th>\n",
       "      <th>wiki_id</th>\n",
       "      <th>freebase_id</th>\n",
       "      <th>name</th>\n",
       "      <th>release_date</th>\n",
       "      <th>revenue</th>\n",
       "      <th>runtime</th>\n",
       "      <th>languages</th>\n",
       "      <th>countries</th>\n",
       "      <th>genres</th>\n",
       "    </tr>\n",
       "  </thead>\n",
       "  <tbody>\n",
       "    <tr>\n",
       "      <th>0</th>\n",
       "      <td>975900</td>\n",
       "      <td>/m/03vyhn</td>\n",
       "      <td>Ghosts of Mars</td>\n",
       "      <td>2001</td>\n",
       "      <td>14010832.0</td>\n",
       "      <td>98.0</td>\n",
       "      <td>[English Language]</td>\n",
       "      <td>{\"/m/09c7w0\": \"United States of America\"}</td>\n",
       "      <td>[Thriller, Science Fiction, Horror, Adventure,...</td>\n",
       "    </tr>\n",
       "    <tr>\n",
       "      <th>1</th>\n",
       "      <td>3196793</td>\n",
       "      <td>/m/08yl5d</td>\n",
       "      <td>Getting Away with Murder: The JonBenét Ramsey ...</td>\n",
       "      <td>2000</td>\n",
       "      <td>NaN</td>\n",
       "      <td>95.0</td>\n",
       "      <td>[English Language]</td>\n",
       "      <td>{\"/m/09c7w0\": \"United States of America\"}</td>\n",
       "      <td>[Mystery, Biographical film, Drama, Crime Drama]</td>\n",
       "    </tr>\n",
       "    <tr>\n",
       "      <th>2</th>\n",
       "      <td>28463795</td>\n",
       "      <td>/m/0crgdbh</td>\n",
       "      <td>Brun bitter</td>\n",
       "      <td>1988</td>\n",
       "      <td>NaN</td>\n",
       "      <td>83.0</td>\n",
       "      <td>[Norwegian Language]</td>\n",
       "      <td>{\"/m/05b4w\": \"Norway\"}</td>\n",
       "      <td>[Crime Fiction, Drama]</td>\n",
       "    </tr>\n",
       "    <tr>\n",
       "      <th>3</th>\n",
       "      <td>9363483</td>\n",
       "      <td>/m/0285_cd</td>\n",
       "      <td>White Of The Eye</td>\n",
       "      <td>1987</td>\n",
       "      <td>NaN</td>\n",
       "      <td>110.0</td>\n",
       "      <td>[English Language]</td>\n",
       "      <td>{\"/m/07ssc\": \"United Kingdom\"}</td>\n",
       "      <td>[Thriller, Erotic thriller, Psychological thri...</td>\n",
       "    </tr>\n",
       "    <tr>\n",
       "      <th>4</th>\n",
       "      <td>261236</td>\n",
       "      <td>/m/01mrr1</td>\n",
       "      <td>A Woman in Flames</td>\n",
       "      <td>1983</td>\n",
       "      <td>NaN</td>\n",
       "      <td>106.0</td>\n",
       "      <td>[German Language]</td>\n",
       "      <td>{\"/m/0345h\": \"Germany\"}</td>\n",
       "      <td>[Drama]</td>\n",
       "    </tr>\n",
       "    <tr>\n",
       "      <th>5</th>\n",
       "      <td>13696889</td>\n",
       "      <td>/m/03cfc81</td>\n",
       "      <td>The Gangsters</td>\n",
       "      <td>1913</td>\n",
       "      <td>NaN</td>\n",
       "      <td>35.0</td>\n",
       "      <td>[Silent film, English Language]</td>\n",
       "      <td>{\"/m/09c7w0\": \"United States of America\"}</td>\n",
       "      <td>[Short Film, Silent film, Indie, Blackandwhite...</td>\n",
       "    </tr>\n",
       "    <tr>\n",
       "      <th>6</th>\n",
       "      <td>18998739</td>\n",
       "      <td>/m/04jcqvw</td>\n",
       "      <td>The Sorcerer's Apprentice</td>\n",
       "      <td>2002</td>\n",
       "      <td>NaN</td>\n",
       "      <td>86.0</td>\n",
       "      <td>[English Language]</td>\n",
       "      <td>{\"/m/0hzlz\": \"South Africa\"}</td>\n",
       "      <td>[Family Film, Fantasy, Adventure, World cinema]</td>\n",
       "    </tr>\n",
       "    <tr>\n",
       "      <th>7</th>\n",
       "      <td>10408933</td>\n",
       "      <td>/m/02qc0j7</td>\n",
       "      <td>Alexander's Ragtime Band</td>\n",
       "      <td>1938</td>\n",
       "      <td>3600000.0</td>\n",
       "      <td>106.0</td>\n",
       "      <td>[English Language]</td>\n",
       "      <td>{\"/m/09c7w0\": \"United States of America\"}</td>\n",
       "      <td>[Musical, Comedy, Blackandwhite]</td>\n",
       "    </tr>\n",
       "    <tr>\n",
       "      <th>8</th>\n",
       "      <td>9997961</td>\n",
       "      <td>/m/06_y2j7</td>\n",
       "      <td>Contigo y aquí</td>\n",
       "      <td>1974</td>\n",
       "      <td>NaN</td>\n",
       "      <td>NaN</td>\n",
       "      <td>[Spanish Language]</td>\n",
       "      <td>{\"/m/0jgd\": \"Argentina\"}</td>\n",
       "      <td>[Musical, Drama, Comedy]</td>\n",
       "    </tr>\n",
       "    <tr>\n",
       "      <th>9</th>\n",
       "      <td>2345652</td>\n",
       "      <td>/m/075f66</td>\n",
       "      <td>City of the Dead</td>\n",
       "      <td>1960</td>\n",
       "      <td>NaN</td>\n",
       "      <td>76.0</td>\n",
       "      <td>[English Language]</td>\n",
       "      <td>{\"/m/07ssc\": \"United Kingdom\"}</td>\n",
       "      <td>[Horror, Supernatural]</td>\n",
       "    </tr>\n",
       "  </tbody>\n",
       "</table>\n",
       "</div>"
      ],
      "text/plain": [
       "    wiki_id freebase_id                                               name  \\\n",
       "0    975900   /m/03vyhn                                     Ghosts of Mars   \n",
       "1   3196793   /m/08yl5d  Getting Away with Murder: The JonBenét Ramsey ...   \n",
       "2  28463795  /m/0crgdbh                                        Brun bitter   \n",
       "3   9363483  /m/0285_cd                                   White Of The Eye   \n",
       "4    261236   /m/01mrr1                                  A Woman in Flames   \n",
       "5  13696889  /m/03cfc81                                      The Gangsters   \n",
       "6  18998739  /m/04jcqvw                          The Sorcerer's Apprentice   \n",
       "7  10408933  /m/02qc0j7                           Alexander's Ragtime Band   \n",
       "8   9997961  /m/06_y2j7                                     Contigo y aquí   \n",
       "9   2345652   /m/075f66                                   City of the Dead   \n",
       "\n",
       "  release_date     revenue  runtime                        languages  \\\n",
       "0         2001  14010832.0     98.0               [English Language]   \n",
       "1         2000         NaN     95.0               [English Language]   \n",
       "2         1988         NaN     83.0             [Norwegian Language]   \n",
       "3         1987         NaN    110.0               [English Language]   \n",
       "4         1983         NaN    106.0                [German Language]   \n",
       "5         1913         NaN     35.0  [Silent film, English Language]   \n",
       "6         2002         NaN     86.0               [English Language]   \n",
       "7         1938   3600000.0    106.0               [English Language]   \n",
       "8         1974         NaN      NaN               [Spanish Language]   \n",
       "9         1960         NaN     76.0               [English Language]   \n",
       "\n",
       "                                   countries  \\\n",
       "0  {\"/m/09c7w0\": \"United States of America\"}   \n",
       "1  {\"/m/09c7w0\": \"United States of America\"}   \n",
       "2                     {\"/m/05b4w\": \"Norway\"}   \n",
       "3             {\"/m/07ssc\": \"United Kingdom\"}   \n",
       "4                    {\"/m/0345h\": \"Germany\"}   \n",
       "5  {\"/m/09c7w0\": \"United States of America\"}   \n",
       "6               {\"/m/0hzlz\": \"South Africa\"}   \n",
       "7  {\"/m/09c7w0\": \"United States of America\"}   \n",
       "8                   {\"/m/0jgd\": \"Argentina\"}   \n",
       "9             {\"/m/07ssc\": \"United Kingdom\"}   \n",
       "\n",
       "                                              genres  \n",
       "0  [Thriller, Science Fiction, Horror, Adventure,...  \n",
       "1   [Mystery, Biographical film, Drama, Crime Drama]  \n",
       "2                             [Crime Fiction, Drama]  \n",
       "3  [Thriller, Erotic thriller, Psychological thri...  \n",
       "4                                            [Drama]  \n",
       "5  [Short Film, Silent film, Indie, Blackandwhite...  \n",
       "6    [Family Film, Fantasy, Adventure, World cinema]  \n",
       "7                   [Musical, Comedy, Blackandwhite]  \n",
       "8                           [Musical, Drama, Comedy]  \n",
       "9                             [Horror, Supernatural]  "
      ]
     },
     "execution_count": 48,
     "metadata": {},
     "output_type": "execute_result"
    }
   ],
   "source": [
    "movie_df.head(10)"
   ]
  }
 ],
 "metadata": {
  "kernelspec": {
   "display_name": "Python 3.9.12 ('base')",
   "language": "python",
   "name": "python3"
  },
  "language_info": {
   "codemirror_mode": {
    "name": "ipython",
    "version": 3
   },
   "file_extension": ".py",
   "mimetype": "text/x-python",
   "name": "python",
   "nbconvert_exporter": "python",
   "pygments_lexer": "ipython3",
   "version": "3.9.12"
  },
  "orig_nbformat": 4,
  "vscode": {
   "interpreter": {
    "hash": "f1a25ef6bf77780c5a5c4bfd63a528b787746ea71089d4a07d4b6ef93ea62829"
   }
  }
 },
 "nbformat": 4,
 "nbformat_minor": 2
}
