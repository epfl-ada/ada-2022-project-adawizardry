{
 "cells": [
  {
   "cell_type": "markdown",
   "metadata": {},
   "source": [
    "# Project Milestone 2 Pipeline\n",
    "* That you can handle the data in its size.\n",
    "* That you understand what’s in the data (formats, distributions, missing values, correlations, etc.).\n",
    "* That you considered ways to enrich, filter, transform the data according to your needs.\n",
    "* That you have a reasonable plan and ideas for methods you’re going to use, giving their essential mathematical details in the notebook.\n",
    "* That your plan for analysis and communication is reasonable and sound, potentially discussing alternatives to your choices that you considered but dropped."
   ]
  },
  {
   "cell_type": "code",
   "execution_count": null,
   "metadata": {},
   "outputs": [],
   "source": [
    "import pandas as pd\n",
    "import numpy as np\n",
    "import matplotlib.pyplot as plt"
   ]
  },
  {
   "cell_type": "code",
   "execution_count": null,
   "metadata": {},
   "outputs": [],
   "source": [
    "movie_cols = [\"wiki_id\", \"freebase_id\", \"name\", \"release_date\", \"revenue\", \"runtime\", \"languages\", \"countries\", \"genres\"]\n",
    "movie_df = pd.read_csv(\n",
    "    './rawdata/MovieSummaries/movie.metadata.tsv', \n",
    "    sep=\"\\t\", \n",
    "    names=movie_cols\n",
    ")\n",
    "#characters_df = pd.read_csv(\n",
    "#    './MovieSummaries/character.metadata.tsv',\n",
    "#    index_col=False, \n",
    "#    sep=\"\\t\", \n",
    "#    names=[\"wiki_id\", \"freebase_id\", \"X\", \"character_name\", \"actor_dob\", \"actor_gender\", \"actor_height\", \"actor_ethnicity\", \"actor_name\", \"actor_release_date_age\"]\n",
    "#)\n",
    "#characters_df = characters_df.drop(columns=\"X\")\n",
    "name_df = pd.read_csv(\n",
    "    './rawdata/MovieSummaries/name.clusters.txt', \n",
    "    sep=\"\\t\",\n",
    "    names = ['character_name', \"freebase_id\"]\n",
    ")"
   ]
  },
  {
   "cell_type": "markdown",
   "metadata": {},
   "source": [
    "## Basic Data Cleaning"
   ]
  },
  {
   "cell_type": "code",
   "execution_count": null,
   "metadata": {},
   "outputs": [],
   "source": [
    "import re\n",
    "\n",
    "movie_df = pd.read_csv(\n",
    "    './rawdata/MovieSummaries/movie.metadata.tsv', \n",
    "    sep=\"\\t\", \n",
    "    names=movie_cols\n",
    ")\n",
    "\n",
    "# Parses the multi value structure of the dataset format into a sorted array of items\n",
    "# Returns null values for empty lists as NaN (so all missing values we use are NaN)\n",
    "def parse_multi_values(x): \n",
    "    if not x: \n",
    "        return []\n",
    "    x = x.split(',')\n",
    "    result = []\n",
    "    for combo in x: \n",
    "        combo = combo.split(\":\")\n",
    "        if len(combo) > 1: \n",
    "            combo[1] = re.sub(\"[^a-zA-Z0-9\\s]+\", \"\", combo[1])\n",
    "            combo[1] = re.sub(\"^\\s\", \"\", combo[1])\n",
    "            combo[1] = combo[1].strip()\n",
    "            result.append(combo[1])\n",
    "    if not result:\n",
    "        return []\n",
    "    return sorted(result)\n",
    "\n",
    "# Parses the language column specifically by removing \"Langauge\" from each entry\n",
    "def parse_language(languages):\n",
    "    if not languages or type(languages) != list:\n",
    "        return []\n",
    "    return list(map(lambda l : l.replace(\"Language\", \"\").strip(), languages))\n",
    "\n",
    "# Parses the date format into an int representing only the year. Values with missing entries are given NaN.\n",
    "def parse_date(x):\n",
    "    if not x or x == np.nan:\n",
    "        return np.NaN\n",
    "    return str(x).split(\"-\")[0]\n",
    "\n",
    "# Parse multi value attributes into arrays\n",
    "for attribute in [\"languages\", \"countries\", \"genres\"]:\n",
    "    movie_df[attribute] = movie_df[attribute].apply(parse_multi_values)\n",
    "\n",
    "# Remove the redundant word \"Language\" from language column\n",
    "movie_df[\"languages\"] = movie_df[\"languages\"].apply(parse_language)\n",
    "\n",
    "# Parse release-date to all use the year as an int (don't need increased granularity right now)\n",
    "movie_df[\"release_date\"] = movie_df[\"release_date\"].apply(parse_date)\n",
    "\n",
    "# Replace missing numeric values with zero and convert to int rather than float\n",
    "for col in [\"runtime\", \"revenue\"]:\n",
    "    movie_df[col] = movie_df[col].fillna(0)\n",
    "    movie_df[col] = movie_df[col].astype(int)\n"
   ]
  },
  {
   "cell_type": "markdown",
   "metadata": {},
   "source": [
    "## Analyzing missing values"
   ]
  },
  {
   "cell_type": "code",
   "execution_count": null,
   "metadata": {},
   "outputs": [],
   "source": [
    "# Let's check to what extent we have missing data\n",
    "# For each column, count the number of missing data and plot a bar graph\n",
    "def analyze_missing_values(df : pd.DataFrame): \n",
    "    # Dictionary from col to missing values count \n",
    "    missing = {}\n",
    "    for col in df.columns:\n",
    "        # Missing are na or empty falsy values such as empty lists\n",
    "        num_missing = df[col].isna().sum() + (df[col].astype(bool) == False).sum()\n",
    "        if num_missing > 0:\n",
    "            missing[col] = num_missing\n",
    "    print(missing)\n",
    "    plt.bar(list(missing.keys()), list(missing.values()))\n",
    "    plt.title(\"Features with missing data (total movies = \" + str(df.shape[0]) + \")\")\n",
    "    plt.ylabel(\"Movies missing this feature\")\n",
    "    plt.show()\n",
    "\n",
    "    # Count how many rows are without any missing values\n",
    "    non_missing = (df.notnull().all(axis=\"columns\") == True).sum()\n",
    "    print(\"Rows without any missing data is\", non_missing)\n",
    "\n",
    "analyze_missing_values(movie_df)"
   ]
  },
  {
   "cell_type": "markdown",
   "metadata": {},
   "source": [
    "## Basic data analysis "
   ]
  },
  {
   "cell_type": "code",
   "execution_count": null,
   "metadata": {},
   "outputs": [],
   "source": [
    "# Let's plot the popularity of genres over time \n",
    "# Y-axis being number of movies and genres \n",
    "\n",
    "# Function that maps a list of items in a series \n",
    "def to_1D(series):\n",
    "    return pd.Series([x for _list in series for x in _list])\n",
    "\n",
    "# Let's plot the top genres\n",
    "genres = to_1D(movie_df[\"genres\"]).value_counts()\n",
    "top_k = 15\n",
    "top_genres = genres.head(n=top_k)\n",
    "plt.bar(top_genres.index, top_genres.values)\n",
    "plt.title(f\"Top {top_k} popular genres (total genres = {len(genres)})\")\n",
    "plt.ylabel(\"Number of movies\")\n",
    "plt.xticks(\n",
    "    rotation=45, \n",
    "    horizontalalignment='right',\n",
    "    fontweight='light',\n",
    ")\n",
    "plt.show()\n",
    "\n",
    "obscure_threshold = 20\n",
    "obscure_genres = genres[genres <= obscure_threshold]\n",
    "print(f\"{len(obscure_genres)} of movies have genre's that only occurr {obscure_threshold} times in the dataset\")\n"
   ]
  },
  {
   "cell_type": "markdown",
   "metadata": {},
   "source": [
    "## Cleaning up \"release_date\""
   ]
  },
  {
   "cell_type": "code",
   "execution_count": null,
   "metadata": {},
   "outputs": [],
   "source": [
    "\n",
    "movie_count = movie_df.groupby(\"release_date\").count()[\"wiki_id\"]\n",
    "movie_count = movie_count.dropna()\n",
    "movie_count = movie_count.sort_values()[1:-1]\n",
    "movie_count.describe()\n"
   ]
  },
  {
   "cell_type": "markdown",
   "metadata": {},
   "source": [
    "## how many films are released per year? \n",
    "#### ❌ one data made at year 1010 "
   ]
  },
  {
   "cell_type": "code",
   "execution_count": null,
   "metadata": {},
   "outputs": [],
   "source": [
    "## Look at the number of film released per year\n",
    "movie_df['release_date']\n",
    "number_by_year = movie_df.groupby('release_date')['name'].count()\n",
    "display(number_by_year.sort_values().tail(10))\n",
    "years = list(range(1888, 2015, 1))\n",
    "fig, ax = plt.subplots()\n",
    "ax.plot(number_by_year.index, number_by_year.values )\n",
    "plt.title(\"The number of movies released by year\")\n",
    "print(f\"year {number_by_year[number_by_year.values > 2000].index} has released more than 2000 movies\" )\n"
   ]
  },
  {
   "cell_type": "markdown",
   "metadata": {},
   "source": [
    "## Trying to do the genre analysis a little more \n",
    "* merge genre into broader categories \n",
    "* observe the number of film released per year over time \n",
    "* decide on the bucket to group "
   ]
  },
  {
   "cell_type": "code",
   "execution_count": null,
   "metadata": {},
   "outputs": [],
   "source": [
    "# separate a word like \"pyschological thriller\" to \"psychological\" and \"thriller\"\n",
    "def combine_lists(elements):\n",
    "    result = []\n",
    "    for x in elements: \n",
    "        result += x\n",
    "    return result\n",
    "movie_df['genre_divided'] = movie_df['genres'].apply(lambda x: [word.lower().split(\" \") for word in x]).apply(combine_lists)"
   ]
  },
  {
   "cell_type": "code",
   "execution_count": null,
   "metadata": {},
   "outputs": [],
   "source": [
    "## drop all the rows where release_date = 'nan'\n",
    "display(\"before dropping\", movie_df.shape)\n",
    "movie_df = movie_df[movie_df['release_date'] != 'nan']\n",
    "display(\"after dropping\", movie_df.shape)\n",
    "\n",
    "## remove certain meaningless keywords from \"genre\", like \"film\", \"movies\"\n",
    "## remove repeated words by changing to set; \n",
    "# if a film is [\"romatic comedy\", \"dark comedy\"], it would become [\"romatic\", \"dark\", \"comedy\"]\n",
    "no_meaning_words = {\"film\", \"movies\", \"of\", \"movie\"}\n",
    "def remove_certain_genre(l):\n",
    "    l = set(l)\n",
    "    for word in no_meaning_words:\n",
    "        if word in l: \n",
    "            l.remove(word)\n",
    "    return list(l)\n",
    "movie_df['genre_divided'] = movie_df['genre_divided'].apply(remove_certain_genre)\n",
    "display(movie_df[['release_date', 'genre_divided']].head(30)) \n",
    "\n",
    "## unfinished\n",
    "## would be nice to combine \"romatic\" with \"romance\"\n",
    "def combine_certain_genre(l):\n",
    "    l = set(l)\n",
    "    for word in no_meaning_words:\n",
    "        if word in l: \n",
    "            l.remove(word)\n",
    "    return list(l)\n",
    "\n",
    "display(to_1D(movie_df['genre_divided']).value_counts().head(30))"
   ]
  }
 ],
 "metadata": {
  "kernelspec": {
   "display_name": "Python 3.9.13 ('ada')",
   "language": "python",
   "name": "python3"
  },
  "language_info": {
   "codemirror_mode": {
    "name": "ipython",
    "version": 3
   },
   "file_extension": ".py",
   "mimetype": "text/x-python",
   "name": "python",
   "nbconvert_exporter": "python",
   "pygments_lexer": "ipython3",
   "version": "3.9.13"
  },
  "orig_nbformat": 4,
  "vscode": {
   "interpreter": {
    "hash": "3a37de1b13afbac81ca6c8a18302ef7bc95b4cf2184e82b338b3cff13f123ddc"
   }
  }
 },
 "nbformat": 4,
 "nbformat_minor": 2
}
