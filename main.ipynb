{
 "cells": [
  {
   "cell_type": "markdown",
   "metadata": {},
   "source": [
    "# Project Milestone 2 Pipeline\n",
    "\n",
    "Our pipeline has the following 4 major parts: \n",
    "##### 1. data cleaning and data quality analysis\n",
    "##### 2. movie releases and genre over time \n",
    "##### 3. historical events scraping and plot analysis \n",
    "##### 4. historical evetns and genre analysis "
   ]
  },
  {
   "cell_type": "code",
   "execution_count": 2,
   "metadata": {},
   "outputs": [],
   "source": [
    "import pandas as pd\n",
    "import numpy as np\n",
    "import matplotlib.pyplot as plt\n",
    "import re\n",
    "from enum import Enum\n"
   ]
  },
  {
   "cell_type": "code",
   "execution_count": 3,
   "metadata": {},
   "outputs": [],
   "source": [
    "class Data(Enum):\n",
    "    MOVIES = \"movie.metadata.tsv\"\n",
    "    PLOTS = \"plot_summaries.txt\"\n",
    "    NAME_CLUSTERS = \"name.clusters.txt\"\n",
    "\n",
    "def load_data(type : Data, columns, index_col = \"\"):\n",
    "    return pd.read_csv(\n",
    "        f'./MovieSummaries/{type.value}', \n",
    "        sep=\"\\t\", \n",
    "        names=columns,\n",
    "        index_col=index_col if index_col != \"\" else columns[0]\n",
    "    )\n",
    "\n",
    "movie_df = load_data(\n",
    "    Data.MOVIES, \n",
    "    [\"wiki_id\", \"freebase_id\", \"name\", \"release_date\", \"revenue\", \"runtime\", \"languages\", \"countries\", \"genres\"],\n",
    ")\n",
    "plot_df = load_data(\n",
    "    Data.PLOTS, \n",
    "    [\"wiki_id\", \"plot\"]\n",
    ")\n",
    "name_df = load_data(\n",
    "    Data.NAME_CLUSTERS, \n",
    "    [\"character_name\", \"freebase_id\"],\n",
    "    index_col=\"freebase_id\"\n",
    ")"
   ]
  },
  {
   "cell_type": "markdown",
   "metadata": {},
   "source": [
    "## Data Cleaning\n",
    "Here we match the movies metadata with the plot summaries, and clean out unnecessary punctuations, parse strings into separate, processable values. "
   ]
  },
  {
   "cell_type": "code",
   "execution_count": 4,
   "metadata": {},
   "outputs": [
    {
     "data": {
      "text/html": [
       "<div>\n",
       "<style scoped>\n",
       "    .dataframe tbody tr th:only-of-type {\n",
       "        vertical-align: middle;\n",
       "    }\n",
       "\n",
       "    .dataframe tbody tr th {\n",
       "        vertical-align: top;\n",
       "    }\n",
       "\n",
       "    .dataframe thead th {\n",
       "        text-align: right;\n",
       "    }\n",
       "</style>\n",
       "<table border=\"1\" class=\"dataframe\">\n",
       "  <thead>\n",
       "    <tr style=\"text-align: right;\">\n",
       "      <th></th>\n",
       "      <th>freebase_id</th>\n",
       "      <th>name</th>\n",
       "      <th>release_date</th>\n",
       "      <th>revenue</th>\n",
       "      <th>runtime</th>\n",
       "      <th>languages</th>\n",
       "      <th>countries</th>\n",
       "      <th>genres</th>\n",
       "      <th>plot</th>\n",
       "    </tr>\n",
       "    <tr>\n",
       "      <th>wiki_id</th>\n",
       "      <th></th>\n",
       "      <th></th>\n",
       "      <th></th>\n",
       "      <th></th>\n",
       "      <th></th>\n",
       "      <th></th>\n",
       "      <th></th>\n",
       "      <th></th>\n",
       "      <th></th>\n",
       "    </tr>\n",
       "  </thead>\n",
       "  <tbody>\n",
       "    <tr>\n",
       "      <th>975900</th>\n",
       "      <td>/m/03vyhn</td>\n",
       "      <td>Ghosts of Mars</td>\n",
       "      <td>2001</td>\n",
       "      <td>14010832</td>\n",
       "      <td>98</td>\n",
       "      <td>[English]</td>\n",
       "      <td>[United States of America]</td>\n",
       "      <td>[Action, Adventure, Horror, Science Fiction, S...</td>\n",
       "      <td>Set in the second half of the 22nd century, th...</td>\n",
       "    </tr>\n",
       "    <tr>\n",
       "      <th>3196793</th>\n",
       "      <td>/m/08yl5d</td>\n",
       "      <td>Getting Away with Murder: The JonBenét Ramsey ...</td>\n",
       "      <td>2000</td>\n",
       "      <td>0</td>\n",
       "      <td>95</td>\n",
       "      <td>[English]</td>\n",
       "      <td>[United States of America]</td>\n",
       "      <td>[Biographical film, Crime Drama, Drama, Mystery]</td>\n",
       "      <td>NaN</td>\n",
       "    </tr>\n",
       "    <tr>\n",
       "      <th>28463795</th>\n",
       "      <td>/m/0crgdbh</td>\n",
       "      <td>Brun bitter</td>\n",
       "      <td>1988</td>\n",
       "      <td>0</td>\n",
       "      <td>83</td>\n",
       "      <td>[Norwegian]</td>\n",
       "      <td>[Norway]</td>\n",
       "      <td>[Crime Fiction, Drama]</td>\n",
       "      <td>NaN</td>\n",
       "    </tr>\n",
       "  </tbody>\n",
       "</table>\n",
       "</div>"
      ],
      "text/plain": [
       "         freebase_id                                               name  \\\n",
       "wiki_id                                                                   \n",
       "975900     /m/03vyhn                                     Ghosts of Mars   \n",
       "3196793    /m/08yl5d  Getting Away with Murder: The JonBenét Ramsey ...   \n",
       "28463795  /m/0crgdbh                                        Brun bitter   \n",
       "\n",
       "         release_date   revenue  runtime    languages  \\\n",
       "wiki_id                                                 \n",
       "975900           2001  14010832       98    [English]   \n",
       "3196793          2000         0       95    [English]   \n",
       "28463795         1988         0       83  [Norwegian]   \n",
       "\n",
       "                           countries  \\\n",
       "wiki_id                                \n",
       "975900    [United States of America]   \n",
       "3196793   [United States of America]   \n",
       "28463795                    [Norway]   \n",
       "\n",
       "                                                     genres  \\\n",
       "wiki_id                                                       \n",
       "975900    [Action, Adventure, Horror, Science Fiction, S...   \n",
       "3196793    [Biographical film, Crime Drama, Drama, Mystery]   \n",
       "28463795                             [Crime Fiction, Drama]   \n",
       "\n",
       "                                                       plot  \n",
       "wiki_id                                                      \n",
       "975900    Set in the second half of the 22nd century, th...  \n",
       "3196793                                                 NaN  \n",
       "28463795                                                NaN  "
      ]
     },
     "metadata": {},
     "output_type": "display_data"
    }
   ],
   "source": [
    "\n",
    "# Parses the multi value structure of the dataset format into a sorted array of items\n",
    "# Returns null values for empty lists as NaN (so all missing values we use are NaN)\n",
    "def parse_multi_values(x): \n",
    "    if not x: \n",
    "        return []\n",
    "    x = x.split(',')\n",
    "    result = []\n",
    "    for combo in x: \n",
    "        combo = combo.split(\":\")\n",
    "        if len(combo) > 1: \n",
    "            combo[1] = re.sub(\"[^a-zA-Z0-9\\s]+\", \"\", combo[1])\n",
    "            combo[1] = re.sub(\"^\\s\", \"\", combo[1])\n",
    "            combo[1] = combo[1].strip()\n",
    "            result.append(combo[1])\n",
    "    if not result:\n",
    "        return []\n",
    "    return sorted(result)\n",
    "\n",
    "# Add plot summaries to the movie df\n",
    "movie_df = movie_df.join(plot_df)\n",
    "\n",
    "# Parses the language column specifically by removing \"Langauge\" from each entry\n",
    "def parse_language(languages):\n",
    "    if not languages or type(languages) != list:\n",
    "        return []\n",
    "    return list(map(lambda l : l.replace(\"Language\", \"\").strip(), languages))\n",
    "\n",
    "# Parses the date format into an int representing only the year. Values with missing entries are given NaN.\n",
    "def parse_date(x):\n",
    "    if not x or x == np.nan:\n",
    "        return np.NaN\n",
    "    return str(x).split(\"-\")[0]\n",
    "\n",
    "# Parse multi value attributes into arrays\n",
    "for attribute in [\"languages\", \"countries\", \"genres\"]:\n",
    "    movie_df[attribute] = movie_df[attribute].apply(parse_multi_values)\n",
    "\n",
    "# Remove \"Language\" from language column\n",
    "movie_df[\"languages\"] = movie_df[\"languages\"].apply(parse_language)\n",
    "\n",
    "# Parse release-date to all use the year as an int (don't need increased granularity right now)\n",
    "movie_df[\"release_date\"] = movie_df[\"release_date\"].apply(parse_date)\n",
    "\n",
    "# Replace missing numeric values with zero and convert to int rather than float\n",
    "for col in [\"runtime\", \"revenue\"]:\n",
    "    movie_df[col] = movie_df[col].fillna(0)\n",
    "    movie_df[col] = movie_df[col].astype(int)\n",
    "\n",
    "display(movie_df.head(3))"
   ]
  },
  {
   "cell_type": "markdown",
   "metadata": {},
   "source": [
    "### Analyzing missing values\n",
    "Here we have a rough idea of the quality of the data, where we realized the genre data is relatively complete among the dataset. "
   ]
  },
  {
   "cell_type": "code",
   "execution_count": 5,
   "metadata": {},
   "outputs": [
    {
     "data": {
      "image/png": "[encoded data removed]",
      "text/plain": [
       "<Figure size 432x288 with 1 Axes>"
      ]
     },
     "metadata": {
      "needs_background": "light"
     },
     "output_type": "display_data"
    },
    {
     "name": "stdout",
     "output_type": "stream",
     "text": [
      "Rows without any missing data is 42204\n"
     ]
    }
   ],
   "source": [
    "# Let's check to what extent we have missing data\n",
    "# For each column, count the number of missing data and plot a bar graph\n",
    "def analyze_missing_values(df : pd.DataFrame): \n",
    "    # Dictionary from col to missing values count \n",
    "    missing = {}\n",
    "    for col in df.columns:\n",
    "        # Missing are na or empty falsy values such as empty lists\n",
    "        num_missing = df[col].isna().sum() + (df[col].astype(bool) == False).sum()\n",
    "        if num_missing > 0:\n",
    "            missing[col] = num_missing\n",
    "    missing = sorted(missing.items(), key=lambda x: x[1], reverse=True)\n",
    "    plt.bar(\n",
    "        list(map(lambda x : x[0], missing)), \n",
    "        list(map(lambda x : x[1], missing)),\n",
    "    )\n",
    "    plt.title(\"Features with missing data (total movies = \" + str(df.shape[0]) + \")\")\n",
    "    plt.ylabel(\"Movies missing this feature\")\n",
    "    plt.show()\n",
    "\n",
    "    # Count how many rows are without any missing values\n",
    "    non_missing = (df.notnull().all(axis=\"columns\") == True).sum()\n",
    "    print(\"Rows without any missing data is\", non_missing)\n",
    "\n",
    "analyze_missing_values(movie_df)\n",
    "\n",
    "## Since we are interested in how movies change over time, we are removing all the values without release_date\n",
    "movie_df['release_date']\n",
    "movie_df = movie_df[movie_df['release_date'] != 'nan']\n",
    "movie_df = movie_df[movie_df['release_date'] != '1010']\n"
   ]
  },
  {
   "cell_type": "markdown",
   "metadata": {},
   "source": [
    "## Data Analysis Part 1: movie releases and genre over time \n",
    "### How many movies are released per year? \n",
    "It's obvious to see from the graph beneath the the number of movies has increased significantly since 2005, with over 1500 movies released per year"
   ]
  },
  {
   "cell_type": "code",
   "execution_count": 6,
   "metadata": {},
   "outputs": [
    {
     "data": {
      "text/plain": [
       "Text(0.5, 1.0, 'The number of movies released by year')"
      ]
     },
     "execution_count": 6,
     "metadata": {},
     "output_type": "execute_result"
    },
    {
     "data": {
      "image/png": "[encoded data removed]",
      "text/plain": [
       "<Figure size 432x288 with 1 Axes>"
      ]
     },
     "metadata": {
      "needs_background": "light"
     },
     "output_type": "display_data"
    }
   ],
   "source": [
    "\n",
    "# Function that maps a list of items in a series \n",
    "def to_1D(series):\n",
    "    return pd.Series([x for _list in series for x in _list])\n",
    "    \n",
    "number_by_year = movie_df.groupby('release_date')['name'].count()\n",
    "years = list(range(1888, 2017, 1))\n",
    "fig, ax = plt.subplots()\n",
    "ax.plot(years, number_by_year.values )\n",
    "plt.xticks(np.arange(1880, 2015, 10), rotation = 45) \n",
    "plt.title(\"The number of movies released by year\")"
   ]
  },
  {
   "cell_type": "markdown",
   "metadata": {},
   "source": [
    "### How does the frequency of genres change over time? \n",
    "* First, we cleaned up the genre cateogries into broader, more generalizable categories. \n",
    "  * a few examples of the cleaning efforts \"biographical film\" is shortened to \"biographical\", \"actionadventure\" is split into \"action\" and \"adventure\", and \"romance\" is combined with \"romantic\" \n",
    "* Then, we observe the number of films of certain genre released over time"
   ]
  },
  {
   "cell_type": "code",
   "execution_count": 7,
   "metadata": {},
   "outputs": [
    {
     "data": {
      "text/html": [
       "<div>\n",
       "<style scoped>\n",
       "    .dataframe tbody tr th:only-of-type {\n",
       "        vertical-align: middle;\n",
       "    }\n",
       "\n",
       "    .dataframe tbody tr th {\n",
       "        vertical-align: top;\n",
       "    }\n",
       "\n",
       "    .dataframe thead th {\n",
       "        text-align: right;\n",
       "    }\n",
       "</style>\n",
       "<table border=\"1\" class=\"dataframe\">\n",
       "  <thead>\n",
       "    <tr style=\"text-align: right;\">\n",
       "      <th></th>\n",
       "      <th>release_date</th>\n",
       "      <th>genre_divided</th>\n",
       "    </tr>\n",
       "    <tr>\n",
       "      <th>wiki_id</th>\n",
       "      <th></th>\n",
       "      <th></th>\n",
       "    </tr>\n",
       "  </thead>\n",
       "  <tbody>\n",
       "    <tr>\n",
       "      <th>975900</th>\n",
       "      <td>2001</td>\n",
       "      <td>[action, space, adventure, science, fiction, w...</td>\n",
       "    </tr>\n",
       "    <tr>\n",
       "      <th>3196793</th>\n",
       "      <td>2000</td>\n",
       "      <td>[mystery, drama, biographical, crime]</td>\n",
       "    </tr>\n",
       "    <tr>\n",
       "      <th>28463795</th>\n",
       "      <td>1988</td>\n",
       "      <td>[drama, crime, fiction]</td>\n",
       "    </tr>\n",
       "    <tr>\n",
       "      <th>9363483</th>\n",
       "      <td>1987</td>\n",
       "      <td>[erotic, thriller, psychological]</td>\n",
       "    </tr>\n",
       "    <tr>\n",
       "      <th>261236</th>\n",
       "      <td>1983</td>\n",
       "      <td>[drama]</td>\n",
       "    </tr>\n",
       "    <tr>\n",
       "      <th>13696889</th>\n",
       "      <td>1913</td>\n",
       "      <td>[comedy, indie, short, silent, blackandwhite]</td>\n",
       "    </tr>\n",
       "    <tr>\n",
       "      <th>18998739</th>\n",
       "      <td>2002</td>\n",
       "      <td>[adventure, fantasy, world, family]</td>\n",
       "    </tr>\n",
       "    <tr>\n",
       "      <th>10408933</th>\n",
       "      <td>1938</td>\n",
       "      <td>[comedy, blackandwhite, musical]</td>\n",
       "    </tr>\n",
       "    <tr>\n",
       "      <th>9997961</th>\n",
       "      <td>1974</td>\n",
       "      <td>[comedy, drama, musical]</td>\n",
       "    </tr>\n",
       "    <tr>\n",
       "      <th>2345652</th>\n",
       "      <td>1960</td>\n",
       "      <td>[horror, supernatural]</td>\n",
       "    </tr>\n",
       "  </tbody>\n",
       "</table>\n",
       "</div>"
      ],
      "text/plain": [
       "         release_date                                      genre_divided\n",
       "wiki_id                                                                 \n",
       "975900           2001  [action, space, adventure, science, fiction, w...\n",
       "3196793          2000              [mystery, drama, biographical, crime]\n",
       "28463795         1988                            [drama, crime, fiction]\n",
       "9363483          1987                  [erotic, thriller, psychological]\n",
       "261236           1983                                            [drama]\n",
       "13696889         1913      [comedy, indie, short, silent, blackandwhite]\n",
       "18998739         2002                [adventure, fantasy, world, family]\n",
       "10408933         1938                   [comedy, blackandwhite, musical]\n",
       "9997961          1974                           [comedy, drama, musical]\n",
       "2345652          1960                             [horror, supernatural]"
      ]
     },
     "metadata": {},
     "output_type": "display_data"
    },
    {
     "name": "stdout",
     "output_type": "stream",
     "text": [
      "The top ten genres after cleaning are ['drama', 'comedy', 'romance', 'fiction', 'action', 'thriller', 'blackandwhite', 'adventure', 'crime', 'short']\n"
     ]
    }
   ],
   "source": [
    "# separate a word like \"pyschological thriller\" to \"psychological\" and \"thriller\"\n",
    "def combine_lists(elements):\n",
    "    result = []\n",
    "    for x in elements: \n",
    "        result += x\n",
    "    return result\n",
    "    \n",
    "movie_df['genre_divided'] = movie_df['genres'].apply(lambda x: [word.lower().split(\" \") for word in x]).apply(combine_lists)\n",
    "\n",
    "## remove certain meaningless keywords from \"genre\", like \"film\", \"movies\"\n",
    "## remove repeated words by changing to set; \n",
    "# if a film is [\"romatic comedy\", \"dark comedy\"], it would become [\"romatic\", \"dark\", \"comedy\"]\n",
    "no_meaning_words = {\"film\", \"movies\", \"of\", \"movie\", \"cinema\"}\n",
    "def remove_certain_genre(l):\n",
    "    l = set(l)\n",
    "    for word in no_meaning_words:\n",
    "        if word in l: \n",
    "            l.remove(word)\n",
    "    return list(l)\n",
    "movie_df['genre_divided'] = movie_df['genre_divided'].apply(remove_certain_genre)\n",
    "## swap words in listA to the list in listB \n",
    "## \"romantic\" is equal to \"romance\", and \"actionadventure\" is equal to \"action\" + \"adventure\"\n",
    "listA = ['romantic', 'actionadventure', 'comedydrama', 'childrensfamily']\n",
    "listB = [['romance'], ['action', 'adventure'], ['comedy', 'drama'], ['childrens', 'family']]\n",
    "def swap_certain_genre (l):\n",
    "    for word in l:\n",
    "        if word in listA: \n",
    "            ind = listA.index(word)\n",
    "            l.remove(word)\n",
    "            l += listB[ind]\n",
    "\n",
    "    return list(set(l))\n",
    "movie_df['genre_divided'] = movie_df['genre_divided'].apply(swap_certain_genre)\n",
    "display(movie_df[['release_date', 'genre_divided']].head(10)) \n",
    "# focus on the top 10 genres, as the ones beneath have less data \n",
    "# science fiction, animation and documentary are beneath -- might be worth looking at later \n",
    "top_ten_list = list(to_1D(movie_df['genre_divided']).value_counts().index[0:10])\n",
    "print(\"The top ten genres after cleaning are\" , top_ten_list)"
   ]
  },
  {
   "cell_type": "markdown",
   "metadata": {},
   "source": [
    "#### How many films of the top ten genres are made per year? "
   ]
  },
  {
   "cell_type": "code",
   "execution_count": 8,
   "metadata": {},
   "outputs": [
    {
     "data": {
      "image/png": "[encoded data removed]",
      "text/plain": [
       "<Figure size 432x288 with 1 Axes>"
      ]
     },
     "metadata": {
      "needs_background": "light"
     },
     "output_type": "display_data"
    },
    {
     "data": {
      "text/plain": [
       "<AxesSubplot:title={'center':'the number of movie by genre over time'}>"
      ]
     },
     "execution_count": 8,
     "metadata": {},
     "output_type": "execute_result"
    }
   ],
   "source": [
    "## The following code prepares another dataframe for plotting \n",
    "stackplot_df = movie_df[['release_date', 'genre_divided']].copy()\n",
    "for genre in top_ten_list: \n",
    "    stackplot_df[genre] = 0\n",
    "\n",
    "for genre in top_ten_list:\n",
    "    stackplot_df[genre] = stackplot_df[\"genre_divided\"].apply(lambda x: 1 if genre in x else 0)\n",
    "\n",
    "## the function for plotting, labels and df need to match \n",
    "def plot_stack_plot (df, labels, years, title): \n",
    "    vstack = []\n",
    "    for genre in top_ten_list: \n",
    "        vstack.append(list(df[genre]))\n",
    "\n",
    "    vstack = np.vstack(vstack)\n",
    "    fig, ax = plt.subplots()\n",
    "    ax.stackplot(years, vstack, labels= top_ten_list)\n",
    "    ax.legend(loc='center left', bbox_to_anchor=(1, 0.5))\n",
    "\n",
    "    plt.title(title)\n",
    "    plt.show()\n",
    "    return ax\n",
    "\n",
    "\n",
    "grouped_by = stackplot_df.groupby(by='release_date').sum().reset_index()\n",
    "years = list(range(1888, 2017, 1))\n",
    "plot_stack_plot(grouped_by, top_ten_list, years, \"the number of movie by genre over time\")"
   ]
  },
  {
   "cell_type": "markdown",
   "metadata": {},
   "source": [
    "#### Normalized genres \n",
    "We realize taht the above result might be affected by the number of labels it has. For example, a movie as [\"comedy\", \"romance\", and \"blackandwhite\" ] would contribute more to the graph. So we normalized the result. "
   ]
  },
  {
   "cell_type": "code",
   "execution_count": 9,
   "metadata": {},
   "outputs": [
    {
     "data": {
      "image/png": "[encoded data removed]",
      "text/plain": [
       "<Figure size 432x288 with 1 Axes>"
      ]
     },
     "metadata": {
      "needs_background": "light"
     },
     "output_type": "display_data"
    },
    {
     "data": {
      "text/plain": [
       "<AxesSubplot:title={'center':'the number of movie by genre over time (normalized)'}>"
      ]
     },
     "execution_count": 9,
     "metadata": {},
     "output_type": "execute_result"
    }
   ],
   "source": [
    "normalized_stack_df = stackplot_df.copy()\n",
    "normalized_stack_df['sum'] = normalized_stack_df.iloc[:, 2:12].sum(axis=1)\n",
    "for genre in top_ten_list:\n",
    "    normalized_stack_df[genre] = normalized_stack_df[genre] / normalized_stack_df['sum']\n",
    "\n",
    "normalized_group_by = normalized_stack_df.groupby(by='release_date').sum().reset_index()\n",
    "plot_stack_plot(normalized_group_by, top_ten_list, years, \"the number of movie by genre over time (normalized)\")"
   ]
  },
  {
   "cell_type": "markdown",
   "metadata": {},
   "source": [
    "#### Genre change in terms of percentage "
   ]
  },
  {
   "cell_type": "code",
   "execution_count": 10,
   "metadata": {},
   "outputs": [
    {
     "data": {
      "text/html": [
       "<div>\n",
       "<style scoped>\n",
       "    .dataframe tbody tr th:only-of-type {\n",
       "        vertical-align: middle;\n",
       "    }\n",
       "\n",
       "    .dataframe tbody tr th {\n",
       "        vertical-align: top;\n",
       "    }\n",
       "\n",
       "    .dataframe thead th {\n",
       "        text-align: right;\n",
       "    }\n",
       "</style>\n",
       "<table border=\"1\" class=\"dataframe\">\n",
       "  <thead>\n",
       "    <tr style=\"text-align: right;\">\n",
       "      <th></th>\n",
       "      <th>release_date</th>\n",
       "      <th>drama</th>\n",
       "      <th>comedy</th>\n",
       "      <th>romance</th>\n",
       "      <th>fiction</th>\n",
       "      <th>action</th>\n",
       "      <th>thriller</th>\n",
       "      <th>blackandwhite</th>\n",
       "      <th>adventure</th>\n",
       "      <th>crime</th>\n",
       "      <th>short</th>\n",
       "      <th>sum</th>\n",
       "    </tr>\n",
       "  </thead>\n",
       "  <tbody>\n",
       "    <tr>\n",
       "      <th>124</th>\n",
       "      <td>2012</td>\n",
       "      <td>0.277675</td>\n",
       "      <td>0.200371</td>\n",
       "      <td>0.114409</td>\n",
       "      <td>0.072975</td>\n",
       "      <td>0.116883</td>\n",
       "      <td>0.110699</td>\n",
       "      <td>0.001237</td>\n",
       "      <td>0.042672</td>\n",
       "      <td>0.039579</td>\n",
       "      <td>0.023500</td>\n",
       "      <td>1617</td>\n",
       "    </tr>\n",
       "    <tr>\n",
       "      <th>125</th>\n",
       "      <td>2013</td>\n",
       "      <td>0.170455</td>\n",
       "      <td>0.132576</td>\n",
       "      <td>0.053030</td>\n",
       "      <td>0.151515</td>\n",
       "      <td>0.166667</td>\n",
       "      <td>0.155303</td>\n",
       "      <td>0.000000</td>\n",
       "      <td>0.102273</td>\n",
       "      <td>0.064394</td>\n",
       "      <td>0.003788</td>\n",
       "      <td>264</td>\n",
       "    </tr>\n",
       "    <tr>\n",
       "      <th>126</th>\n",
       "      <td>2014</td>\n",
       "      <td>0.235294</td>\n",
       "      <td>0.117647</td>\n",
       "      <td>0.176471</td>\n",
       "      <td>0.058824</td>\n",
       "      <td>0.058824</td>\n",
       "      <td>0.058824</td>\n",
       "      <td>0.000000</td>\n",
       "      <td>0.294118</td>\n",
       "      <td>0.000000</td>\n",
       "      <td>0.000000</td>\n",
       "      <td>17</td>\n",
       "    </tr>\n",
       "    <tr>\n",
       "      <th>127</th>\n",
       "      <td>2015</td>\n",
       "      <td>0.000000</td>\n",
       "      <td>0.125000</td>\n",
       "      <td>0.000000</td>\n",
       "      <td>0.375000</td>\n",
       "      <td>0.250000</td>\n",
       "      <td>0.000000</td>\n",
       "      <td>0.000000</td>\n",
       "      <td>0.125000</td>\n",
       "      <td>0.125000</td>\n",
       "      <td>0.000000</td>\n",
       "      <td>8</td>\n",
       "    </tr>\n",
       "    <tr>\n",
       "      <th>128</th>\n",
       "      <td>2016</td>\n",
       "      <td>0.000000</td>\n",
       "      <td>0.000000</td>\n",
       "      <td>0.200000</td>\n",
       "      <td>0.200000</td>\n",
       "      <td>0.200000</td>\n",
       "      <td>0.400000</td>\n",
       "      <td>0.000000</td>\n",
       "      <td>0.000000</td>\n",
       "      <td>0.000000</td>\n",
       "      <td>0.000000</td>\n",
       "      <td>5</td>\n",
       "    </tr>\n",
       "  </tbody>\n",
       "</table>\n",
       "</div>"
      ],
      "text/plain": [
       "    release_date     drama    comedy   romance   fiction    action  thriller  \\\n",
       "124         2012  0.277675  0.200371  0.114409  0.072975  0.116883  0.110699   \n",
       "125         2013  0.170455  0.132576  0.053030  0.151515  0.166667  0.155303   \n",
       "126         2014  0.235294  0.117647  0.176471  0.058824  0.058824  0.058824   \n",
       "127         2015  0.000000  0.125000  0.000000  0.375000  0.250000  0.000000   \n",
       "128         2016  0.000000  0.000000  0.200000  0.200000  0.200000  0.400000   \n",
       "\n",
       "     blackandwhite  adventure     crime     short   sum  \n",
       "124       0.001237   0.042672  0.039579  0.023500  1617  \n",
       "125       0.000000   0.102273  0.064394  0.003788   264  \n",
       "126       0.000000   0.294118  0.000000  0.000000    17  \n",
       "127       0.000000   0.125000  0.125000  0.000000     8  \n",
       "128       0.000000   0.000000  0.000000  0.000000     5  "
      ]
     },
     "metadata": {},
     "output_type": "display_data"
    },
    {
     "data": {
      "image/png": "[encoded data removed]",
      "text/plain": [
       "<Figure size 432x288 with 1 Axes>"
      ]
     },
     "metadata": {
      "needs_background": "light"
     },
     "output_type": "display_data"
    },
    {
     "data": {
      "text/plain": [
       "<AxesSubplot:title={'center':'the percentage of movie by genre over time'}>"
      ]
     },
     "execution_count": 10,
     "metadata": {},
     "output_type": "execute_result"
    }
   ],
   "source": [
    "percentage_df = grouped_by.copy()\n",
    "percentage_df['sum'] = percentage_df.iloc[:, 1:11].sum(axis=1)\n",
    "for genre in top_ten_list:\n",
    "    percentage_df[genre] = percentage_df[genre]/percentage_df['sum']\n",
    "\n",
    "display(percentage_df.tail(5))\n",
    "\n",
    "plot_stack_plot(percentage_df, top_ten_list, years, \"the percentage of movie by genre over time\")"
   ]
  },
  {
   "cell_type": "markdown",
   "metadata": {},
   "source": [
    "### Data Analysis Part 1 conclusion\n",
    "* We can see that there is a sharp increase in the number of movies made since the 2000s \n",
    "* Black and white movies almost disappeared completely after 1970s\n",
    "* Short movies are less frequent "
   ]
  },
  {
   "cell_type": "code",
   "execution_count": null,
   "metadata": {},
   "outputs": [],
   "source": []
  },
  {
   "cell_type": "code",
   "execution_count": null,
   "metadata": {},
   "outputs": [],
   "source": []
  },
  {
   "cell_type": "markdown",
   "metadata": {},
   "source": [
    "## Data Analysis Part 2: Statistical tests, Genre vs Historical Events"
   ]
  },
  {
   "cell_type": "code",
   "execution_count": 11,
   "metadata": {},
   "outputs": [],
   "source": [
    "from scipy import stats"
   ]
  },
  {
   "cell_type": "code",
   "execution_count": 12,
   "metadata": {},
   "outputs": [],
   "source": [
    "def movies_by_genre_over_time(df, genre):\n",
    "    \"\"\"\n",
    "    Get the nbr of movies with a particular genre for every year and the fraction\n",
    "    nbr movies of genre / total nbr of movies (for a given year)\n",
    "\n",
    "    returns: DataFrame (cols = [release_date, genre_count, total_count, fraction])\n",
    "    \"\"\"\n",
    "    mask = df['genres'].apply(lambda x: genre in x)\n",
    "    genre_df = df[mask]\n",
    "    genre_df = genre_df.groupby(by='release_date').count()[['name']]\n",
    "    genre_df = genre_df.rename(columns={'name': f'{genre}_count'})\n",
    "    df2 = df.groupby(by='release_date').count()[['name']]\n",
    "    genre_df['total_count'] = df2['name']\n",
    "    genre_df['fraction'] = genre_df[f'{genre}_count'] / genre_df['total_count']\n",
    "    return genre_df"
   ]
  },
  {
   "cell_type": "code",
   "execution_count": 13,
   "metadata": {},
   "outputs": [],
   "source": [
    "def get_idx_from_date(df, event_year):\n",
    "    \"\"\"\n",
    "    Returns the index for a year in the df received from the movies_by_genre_over_time-function\n",
    "    \"\"\"\n",
    "    idx = 0\n",
    "    for year in df.index.values:\n",
    "        if year == event_year:\n",
    "            return idx\n",
    "        idx += 1\n",
    "\n",
    "def run_ttest_on_event(event, df):\n",
    "    \"\"\"\n",
    "    Runs a t-test comparing the fraction of movies made by genre BEFORE vs AFTER the event occured\n",
    "\n",
    "    params:\n",
    "        event: dict\n",
    "        df: DataFrame\n",
    "\n",
    "    return: \n",
    "        scipy.stats.ttest\n",
    "    \"\"\"\n",
    "\n",
    "    date = event['date']\n",
    "    if len(date) == 9:\n",
    "        start_date = date.split('-')[0]\n",
    "        end_date = date.split('-')[1]\n",
    "\n",
    "        start_idx = get_idx_from_date(df, start_date)\n",
    "        end_idx = get_idx_from_date(df, end_date)\n",
    "        before_event = df.iloc[:start_idx]\n",
    "        after_event = df.iloc[end_idx:]\n",
    "\n",
    "    else:\n",
    "        idx = get_idx_from_date(df, date)\n",
    "        before_event = df.iloc[:idx]\n",
    "        after_event = df.iloc[idx:]\n",
    "\n",
    "    return stats.ttest_ind(before_event['fraction'], after_event['fraction'])"
   ]
  },
  {
   "cell_type": "code",
   "execution_count": 14,
   "metadata": {},
   "outputs": [
    {
     "data": {
      "text/plain": [
       "Ttest_indResult(statistic=-3.154620348362382, pvalue=0.002134291877531837)"
      ]
     },
     "execution_count": 14,
     "metadata": {},
     "output_type": "execute_result"
    }
   ],
   "source": [
    "# How to use these functions\n",
    "war_movie_df = movies_by_genre_over_time(movie_df, 'War film')\n",
    "event = {'name': 'World War II', 'date': '1939-1945', 'link': 'https://en.wikipedia.org/wiki/World_War_II'}\n",
    "\n",
    "run_ttest_on_event(event, war_movie_df)"
   ]
  },
  {
   "cell_type": "code",
   "execution_count": 15,
   "metadata": {},
   "outputs": [],
   "source": [
    "import json\n",
    "# Import all historical events\n",
    "f = open('AnnotatedListOfEvents.json')\n",
    "event_data = json.load(f)\n",
    "event_data = event_data['events']\n",
    "\n",
    "# Run t-tests on all events and all genres"
   ]
  },
  {
   "cell_type": "code",
   "execution_count": 20,
   "metadata": {},
   "outputs": [],
   "source": [
    "def convert_list_to_string(list_):\n",
    "    string = \"\"\n",
    "    for idx, e in enumerate(list_):\n",
    "        if idx == len(list_)-1:\n",
    "            string += str(e)\n",
    "        else:\n",
    "            string += str(e) + \", \"\n",
    "    return string\n",
    "\n",
    "def get_all_unique_genres(df: pd.DataFrame) -> list:\n",
    "    \"\"\"\n",
    "    returns all unique genres in the df\n",
    "    \"\"\"\n",
    "    mydf = df.copy()\n",
    "    mydf['genres'] = mydf['genres'].apply(lambda x: convert_list_to_string(x))\n",
    "    genre_list = mydf['genres'].unique()\n",
    "    genres = []\n",
    "    for genre in genre_list:\n",
    "        genre_list = genre.split(', ')\n",
    "        for e in genre_list:\n",
    "            genres.append(e)\n",
    "    genres = list(set(genres))\n",
    "    return genres"
   ]
  },
  {
   "cell_type": "code",
   "execution_count": 21,
   "metadata": {},
   "outputs": [],
   "source": [
    "def filter_significant_tests(list_of_tests, alpha):\n",
    "    \"\"\"\n",
    "    Returns a list of tests that is significant on significance level alpha\n",
    "    \"\"\"\n",
    "    return [x for x in list_of_tests if x[2][1] < alpha]"
   ]
  },
  {
   "cell_type": "code",
   "execution_count": 22,
   "metadata": {},
   "outputs": [
    {
     "name": "stderr",
     "output_type": "stream",
     "text": [
      "/Library/Frameworks/Python.framework/Versions/3.9/lib/python3.9/site-packages/numpy/core/fromnumeric.py:3723: RuntimeWarning: Degrees of freedom <= 0 for slice\n",
      "  return _methods._var(a, axis=axis, dtype=dtype, out=out, ddof=ddof,\n",
      "/Library/Frameworks/Python.framework/Versions/3.9/lib/python3.9/site-packages/numpy/core/_methods.py:254: RuntimeWarning: invalid value encountered in double_scalars\n",
      "  ret = ret.dtype.type(ret / rcount)\n"
     ]
    }
   ],
   "source": [
    "# Run t-tests to determine significance in rise/fall of popularity for every genre before vs after every historical event\n",
    "\n",
    "genres = get_all_unique_genres(movie_df)\n",
    "ttest_list = []\n",
    "genre_dfs = []\n",
    "for genre in genres:\n",
    "    genre_dfs.append(movies_by_genre_over_time(movie_df, genre))\n",
    "for event in event_data:\n",
    "    for genre_df in genre_dfs:\n",
    "        ttest = run_ttest_on_event(event, genre_df)\n",
    "        ttest_list.append([event, str(genre_df.columns[0]).replace('_count', ''), ttest])"
   ]
  },
  {
   "cell_type": "code",
   "execution_count": 24,
   "metadata": {},
   "outputs": [],
   "source": [
    "# Significance level alpha = 0.005\n",
    "significant_ttests = filter_significant_tests(ttest_list, 0.005)"
   ]
  },
  {
   "cell_type": "code",
   "execution_count": 27,
   "metadata": {},
   "outputs": [
    {
     "name": "stdout",
     "output_type": "stream",
     "text": [
      "Number of tests done (Event vs Popularity of Genre Combinations): 12376\n",
      "Number of significant (alpha = 0.005) increases / descreases after event: 1512\n"
     ]
    }
   ],
   "source": [
    "print(\"Number of tests done (Event vs Production of Genre Combinations):\", len(ttest_list))\n",
    "print(\"Number of significant (alpha = 0.005) increases / descreases after event:\", len(significant_ttests))"
   ]
  },
  {
   "cell_type": "code",
   "execution_count": 28,
   "metadata": {},
   "outputs": [
    {
     "data": {
      "text/plain": [
       "[{'name': 'President Kennedy Is Assassinated',\n",
       "  'date': '1963',\n",
       "  'link': 'https://en.wikipedia.org/wiki/Assassination_of_John_F._Kennedy'},\n",
       " 'Horror',\n",
       " Ttest_indResult(statistic=-9.8853092591525, pvalue=1.013981982037517e-16)]"
      ]
     },
     "execution_count": 28,
     "metadata": {},
     "output_type": "execute_result"
    }
   ],
   "source": [
    "significant_ttests[765]"
   ]
  },
  {
   "cell_type": "markdown",
   "metadata": {},
   "source": [
    "The cell above indicates that after \"President Kennedy Is Assasinated\" occured the production of the \"Horror\"-genre INCREASED, the p-value of this is: p ≈ 1.01e-16"
   ]
  },
  {
   "cell_type": "code",
   "execution_count": 36,
   "metadata": {},
   "outputs": [
    {
     "data": {
      "text/plain": [
       "[{'name': \"Albert Einstein's formulation of special relativity\",\n",
       "  'date': '1905',\n",
       "  'link': 'https://en.wikipedia.org/wiki/Theory_of_relativity'},\n",
       " 'Silent film',\n",
       " Ttest_indResult(statistic=4.5711180088151275, pvalue=1.9662521689840835e-05)]"
      ]
     },
     "execution_count": 36,
     "metadata": {},
     "output_type": "execute_result"
    }
   ],
   "source": [
    "significant_ttests[10]"
   ]
  },
  {
   "cell_type": "markdown",
   "metadata": {},
   "source": [
    "The cell above indicates that after \"Albert Einstein's formulation of special relativity\" occured the production of the \"Silent film\"-genre DECREASED, the p-value of this is: p ≈ 2.0e-5"
   ]
  },
  {
   "cell_type": "markdown",
   "metadata": {},
   "source": [
    "### Comments"
   ]
  },
  {
   "cell_type": "markdown",
   "metadata": {},
   "source": [
    "At the significance level $\\alpha$ = 0.005, 1,512 out of 12,376 turned out \"significant\". But the exampel above suggests that there still are combinations in this set which doesn't make sense. The event of Albert Einstein publishing his work on special relativity propably didn't cause the genre \"Silent film\" to decrease. We treat the results from the t-tests above as an initial filter. Now we can do further analysis these combinations. The next step of the analysis will be to compare plot summaries of movies to Wikipedia summaries events. By doing this we might be able to see if there actually is any similarity between the historical event and movies that followed it. Example; the plot summaries of the \"Silent films\" that followed Einstein's discovery probabaly won't have anything to do with special relativity and we can rule them out."
   ]
  },
  {
   "cell_type": "markdown",
   "metadata": {},
   "source": [
    "## Data Analysis Part 3: Plot Summaries and Historical Events Similarity"
   ]
  },
  {
   "cell_type": "code",
   "execution_count": null,
   "metadata": {},
   "outputs": [],
   "source": [
    "%pip install gensim\n",
    "%pip install nltk\n",
    "from gensim.models.doc2vec import Doc2Vec, TaggedDocument\n",
    "import nltk\n",
    "nltk.download('punkt')\n",
    "from nltk.tokenize import word_tokenize\n",
    "import pathlib\n",
    "import multiprocessing"
   ]
  },
  {
   "cell_type": "code",
   "execution_count": 37,
   "metadata": {},
   "outputs": [],
   "source": [
    "plot_df = movie_df.copy()\n",
    "plot_df = plot_df[plot_df['plot'].notna()]"
   ]
  },
  {
   "cell_type": "code",
   "execution_count": null,
   "metadata": {},
   "outputs": [],
   "source": [
    "import string\n",
    "\n",
    "def parseDocument(doc):\n",
    "        # TODO: probably don't need stuff to remove puctuation eg since that should be handled by word_tokenizer\n",
    "        return word_tokenize(doc.lower().replace('\\n', ' ').replace('\\r', '').translate(str.maketrans('', '', string.punctuation)))\n",
    "\n",
    "# Tokenize all plots \n",
    "tokenized_df = movie_df.copy() \n",
    "tokenized_summaries = tokenized_df['plot'].values\n",
    "tokenized_summaries = [TaggedDocument(parseDocument(doc), [idx]) for idx, doc in enumerate(tokenized_summaries)]"
   ]
  },
  {
   "cell_type": "code",
   "execution_count": null,
   "metadata": {},
   "outputs": [],
   "source": [
    "# Loads existing model from disk if available else trains new model\n",
    "# Set force_train_new to True to train a new model even if a previous model exists\n",
    "def create_doc2vec_model(documents, force_train_new = False):\n",
    "    fname = str(pathlib.Path().resolve()) + \"/doc2vec_model\"\n",
    "    if not force_train_new:\n",
    "        # Try to load, if it succeeds then previous model existed so return that one\n",
    "        try:\n",
    "            return Doc2Vec.load(fname)\n",
    "        except:\n",
    "            print(\"Failed to load existing model\")\n",
    "\n",
    "    # Train model\n",
    "    print(\"Start training of Doc2Vec model...\")\n",
    "    model = Doc2Vec(\n",
    "        documents, \n",
    "        window=2, \n",
    "        min_count=1, \n",
    "        workers=multiprocessing.cpu_count(), \n",
    "        epochs = 100\n",
    "    )\n",
    "    \n",
    "    # Persist the model\n",
    "    print(f\"Finished training Doc2Vec, saving it to file {fname}\")\n",
    "    model.save(fname)\n",
    "    return model\n",
    "\n",
    "# Train the doc2vec model\n",
    "model = create_doc2vec_model(tokenized_summaries, force_train_new=False)"
   ]
  },
  {
   "cell_type": "code",
   "execution_count": null,
   "metadata": {},
   "outputs": [],
   "source": [
    "apollo_wiki = \"\"\"Apollo 13 (April 11–17, 1970) was the seventh crewed mission in the Apollo space program and the third meant to land on the Moon. The craft was launched from Kennedy Space Center on April 11, 1970, but the lunar landing was aborted after an oxygen tank in the service module (SM) failed two days into the mission. The crew instead looped around the Moon and returned safely to Earth on April 17. The mission was commanded by Jim Lovell, with Jack Swigert as command module (CM) pilot and Fred Haise as Lunar Module (LM) pilot. Swigert was a late replacement for Ken Mattingly, who was grounded after exposure to rubella.\n",
    "\n",
    "A routine stir of an oxygen tank ignited damaged wire insulation inside it, causing an explosion that vented the contents of both of the SM's oxygen tanks to space. Without oxygen, needed for breathing and for generating electric power, the SM's propulsion and life support systems could not operate. The CM's systems had to be shut down to conserve its remaining resources for reentry, forcing the crew to transfer to the LM as a lifeboat. With the lunar landing canceled, mission controllers worked to bring the crew home alive.\n",
    "\n",
    "Although the LM was designed to support two men on the lunar surface for two days, Mission Control in Houston improvised new procedures so it could support three men for four days. The crew experienced great hardship, caused by limited power, a chilly and wet cabin and a shortage of potable water. There was a critical need to adapt the CM's cartridges for the carbon dioxide scrubber system to work in the LM; the crew and mission controllers were successful in improvising a solution. The astronauts' peril briefly renewed public interest in the Apollo program; tens of millions watched the splashdown in the South Pacific Ocean on television.\n",
    "\n",
    "An investigative review board found fault with preflight testing of the oxygen tank and Teflon being placed inside it. The board recommended changes, including minimizing the use of potentially combustible items inside the tank; this was done for Apollo 14. The story of Apollo 13 has been dramatized several times, most notably in the 1995 film Apollo 13 – based on Lost Moon, the 1994 memoir co-authored by Lovell – and an episode of the 1998 miniseries From the Earth to the Moon.\"\"\"\n",
    "test_doc = parseDocument(apollo_wiki)\n",
    "test_vector = model.infer_vector(test_doc)\n",
    "\n",
    "top_similar = model.dv.most_similar(positive=[test_vector],topn=100)\n",
    "# Reminder, id here is the natural index from movie_df\n",
    "top_similar_df = pd.DataFrame(top_similar, columns=[\"id\", \"similarity\"]).set_index(\"id\")\n",
    "\n",
    "movie_df = movie_df.reset_index(drop=True)\n",
    "\n",
    "top_similar_df = pd.merge(top_similar_df, movie_df, left_index=True, right_index=True)[[\"name\", \"similarity\", \"release_date\", \"plot\"]]\n",
    "top_similar_df"
   ]
  }
 ],
 "metadata": {
  "kernelspec": {
   "display_name": "Python 3.9.4 64-bit",
   "language": "python",
   "name": "python3"
  },
  "language_info": {
   "codemirror_mode": {
    "name": "ipython",
    "version": 3
   },
   "file_extension": ".py",
   "mimetype": "text/x-python",
   "name": "python",
   "nbconvert_exporter": "python",
   "pygments_lexer": "ipython3",
   "version": "3.9.4"
  },
  "orig_nbformat": 4,
  "vscode": {
   "interpreter": {
    "hash": "aee8b7b246df8f9039afb4144a1f6fd8d2ca17a180786b69acc140d282b71a49"
   }
  }
 },
 "nbformat": 4,
 "nbformat_minor": 2
}
