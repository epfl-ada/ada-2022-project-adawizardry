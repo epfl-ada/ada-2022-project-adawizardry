{
 "cells": [
  {
   "cell_type": "code",
   "execution_count": null,
   "metadata": {},
   "outputs": [],
   "source": [
    "movies_with_revenue = movie_df[movie_df.revenue != 0]\n",
    "movies_with_revenue = pd.merge(movies_with_revenue, similarity_df, on='name', how='inner')\n",
    "movies_with_revenue = movies_with_revenue.drop(['release_date_y', 'genres_y', 'plot_y', 'freebase_id', 'runtime', 'genre_divided'], axis=1)\n",
    "movies_with_revenue = movies_with_revenue.rename(columns={'release_date_x': 'release_date', 'genres_x': 'genres', 'plot_x': 'plot'})"
   ]
  },
  {
   "cell_type": "code",
   "execution_count": null,
   "metadata": {},
   "outputs": [],
   "source": [
    "def load_inflation_data():\n",
    "    file_path = \"./inflation_data/API_FP/API_FP.CPI.TOTL.ZG_DS2_en_csv_v2_4763429.csv\"\n",
    "    return pd.read_csv(file_path, sep=',', header=2)"
   ]
  },
  {
   "cell_type": "code",
   "execution_count": null,
   "metadata": {},
   "outputs": [],
   "source": [
    "def get_inflation_list():\n",
    "    \"\"\"\n",
    "    First year in inflation_list is 1960, last year is 2021\n",
    "    \"\"\"\n",
    "    inflation_df = load_inflation_data()\n",
    "    inflation_df = inflation_df.drop(columns='Unnamed: 66')\n",
    "    inflation_df = inflation_df.dropna(axis=0, how='any')\n",
    "    inflation_df = inflation_df[inflation_df['Country Code'] == 'USA']\n",
    "    inflation_list = inflation_df.loc[inflation_df['Country Code'] == 'USA'].values.flatten().tolist()\n",
    "    for i in range(4):\n",
    "        inflation_list.pop(0)\n",
    "    return inflation_list\n",
    "    \n",
    "inflation_list = get_inflation_list()"
   ]
  },
  {
   "cell_type": "code",
   "execution_count": null,
   "metadata": {},
   "outputs": [],
   "source": [
    "def get_adjusted_revenue(x, inflation_list):\n",
    "    release_date = x['release_date']\n",
    "    start_idx = release_date - 1960\n",
    "    if start_idx < 0:\n",
    "        return None\n",
    "    adj_revenue = x['revenue']\n",
    "    for idx in range(start_idx, len(inflation_list)):\n",
    "        adj_revenue = inflation_list[idx]/100 * adj_revenue + adj_revenue\n",
    "\n",
    "    return adj_revenue"
   ]
  },
  {
   "cell_type": "code",
   "execution_count": null,
   "metadata": {},
   "outputs": [],
   "source": [
    "movies_with_revenue['adj_revenue'] = movies_with_revenue.apply(lambda x : get_adjusted_revenue(x, inflation_list), axis=1)"
   ]
  },
  {
   "cell_type": "code",
   "execution_count": null,
   "metadata": {},
   "outputs": [],
   "source": [
    "movies_with_revenue = movies_with_revenue[movies_with_revenue.adj_revenue.notna()]"
   ]
  },
  {
   "cell_type": "code",
   "execution_count": null,
   "metadata": {},
   "outputs": [],
   "source": [
    "event_list = movies_with_revenue.event.unique()"
   ]
  },
  {
   "cell_type": "code",
   "execution_count": null,
   "metadata": {},
   "outputs": [],
   "source": [
    "for i in range(len(event_list)):\n",
    "    event_df = movies_with_revenue[movies_with_revenue.event == event_list[i]]\n",
    "    event_df.plot.scatter(x='similarity', y='adj_revenue', s=0.8)\n",
    "    plt.title(event_list[i])\n",
    "    plt.show()"
   ]
  },
  {
   "cell_type": "code",
   "execution_count": null,
   "metadata": {},
   "outputs": [],
   "source": [
    "adjrev_by_event = movies_with_revenue.groupby(by='event')[['adj_revenue']].mean()"
   ]
  },
  {
   "cell_type": "code",
   "execution_count": null,
   "metadata": {},
   "outputs": [],
   "source": [
    "adjrev_by_event.plot.bar(y='adj_revenue')"
   ]
  },
  {
   "cell_type": "code",
   "execution_count": null,
   "metadata": {},
   "outputs": [],
   "source": [
    "movies_with_revenue['is_after'] = movies_with_revenue.apply(lambda x: 1 if x['release_date'] > extract_date_interval(dates_df.loc[x['event']]['date'])[0] else 0, axis=1)"
   ]
  },
  {
   "cell_type": "code",
   "execution_count": null,
   "metadata": {},
   "outputs": [],
   "source": [
    "movies_with_revenue.sort_values(by='release_date', ascending=True)"
   ]
  },
  {
   "cell_type": "code",
   "execution_count": null,
   "metadata": {},
   "outputs": [],
   "source": [
    "f = plt.figure()\n",
    "sns.barplot(data = movies_with_revenue, x='event', y = 'revenue', hue='is_after', palette='turbo')\n",
    "plt.xticks(rotation=90)\n",
    "# plt.figure(figsize=(32, 20), dpi=80)\n",
    "f.set_figheight(12)\n",
    "f.set_figwidth(12)"
   ]
  }
 ],
 "metadata": {
  "language_info": {
   "name": "python"
  },
  "orig_nbformat": 4
 },
 "nbformat": 4,
 "nbformat_minor": 2
}
